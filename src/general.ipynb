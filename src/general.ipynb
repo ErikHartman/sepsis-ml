{
 "cells": [
  {
   "cell_type": "code",
   "execution_count": 1,
   "metadata": {},
   "outputs": [
    {
     "name": "stdout",
     "output_type": "stream",
     "text": [
      "Base path: ..\n"
     ]
    }
   ],
   "source": [
    "import pandas as pd\n",
    "import os\n",
    "import matplotlib.pyplot as plt\n",
    "from sklearn import preprocessing\n",
    "from UsefulFunctions import *\n",
    "import seaborn as sns\n",
    "from config_path import MS_DATA_PATH, SEPSIS_PATH, HA_PATH\n",
    "from dpks.quant_matrix import QuantMatrix\n"
   ]
  },
  {
   "cell_type": "code",
   "execution_count": 2,
   "metadata": {},
   "outputs": [],
   "source": [
    "def get_proteins_triv_name(proteins):\n",
    "    human_proteome = pd.read_csv('../data/human_proteome.gz')\n",
    "    human_proteome['accession'] = human_proteome['accession'].apply(lambda x: x.split('_')[0])\n",
    "    names = []\n",
    "    for protein in proteins:\n",
    "        if protein in human_proteome['accession'].values:\n",
    "            m = human_proteome.loc[human_proteome['accession'] == protein]['trivname'].values\n",
    "            assert len(m) == 1\n",
    "            m = m[0].split('_')[0]\n",
    "        else:\n",
    "            m = protein\n",
    "        names.append(m)\n",
    "    return names"
   ]
  },
  {
   "cell_type": "markdown",
   "metadata": {},
   "source": [
    "## DPKS\n",
    "---"
   ]
  },
  {
   "cell_type": "code",
   "execution_count": 5,
   "metadata": {},
   "outputs": [],
   "source": [
    "import pyperclip\n",
    "covid = pd.read_csv('../data/ms/covid/AaronQM.tsv', sep=\"\\t\")\n",
    "s = \"\"\n",
    "for r in covid['Protein'].values:\n",
    "    s = s+r+ \"\\n\"\n",
    "pyperclip.copy(s)\n"
   ]
  },
  {
   "cell_type": "code",
   "execution_count": 3,
   "metadata": {},
   "outputs": [
    {
     "data": {
      "text/plain": [
       "(array([13402.,   193.,  1028.,  5629., 12670.,  8850.,  3793.,  2415.,\n",
       "          614.,    19.]),\n",
       " array([ 0.       ,  1.2064333,  2.4128666,  3.6192999,  4.8257332,\n",
       "         6.0321665,  7.2385998,  8.4450331,  9.6514664, 10.8578997,\n",
       "        12.064333 ]),\n",
       " <BarContainer object of 10 artists>)"
      ]
     },
     "execution_count": 3,
     "metadata": {},
     "output_type": "execute_result"
    },
    {
     "data": {
      "image/png": "[encoded data removed]",
      "text/plain": [
       "<Figure size 432x288 with 2 Axes>"
      ]
     },
     "metadata": {
      "needs_background": "light"
     },
     "output_type": "display_data"
    }
   ],
   "source": [
    "#COVID\n",
    "\n",
    "quant_matrix = QuantMatrix(\n",
    "    quantification_file=f\"../data/ms/covid/Aaron_data_cropped.tsv\",\n",
    "    design_matrix_file=f\"../data/ms/covid/design_cropped.tsv\"\n",
    ")\n",
    "\n",
    "qm = quant_matrix.normalize(method=\"mean\").quantify(method='maxlfq', threads=12)\n",
    "fig, ax = plt.subplots(2,1)\n",
    "ax[1].hist(qm.to_df()[quant_matrix.get_samples(2)].fillna(0).to_numpy().flatten())\n",
    "ax[0].hist(qm.to_df()[quant_matrix.get_samples(1)].fillna(0).to_numpy().flatten())"
   ]
  },
  {
   "cell_type": "code",
   "execution_count": 7,
   "metadata": {},
   "outputs": [
    {
     "data": {
      "text/plain": [
       "(array([1.9041e+04, 2.2300e+02, 1.4330e+03, 7.6490e+03, 1.8695e+04,\n",
       "        1.3237e+04, 6.4850e+03, 2.8570e+03, 6.0600e+02, 1.2000e+01]),\n",
       " array([-0.07308531,  1.17999919,  2.43308369,  3.68616819,  4.9392527 ,\n",
       "         6.1923372 ,  7.4454217 ,  8.6985062 ,  9.9515907 , 11.2046752 ,\n",
       "        12.45775971]),\n",
       " <BarContainer object of 10 artists>)"
      ]
     },
     "execution_count": 7,
     "metadata": {},
     "output_type": "execute_result"
    },
    {
     "data": {
      "image/png": "[encoded data removed]",
      "text/plain": [
       "<Figure size 432x288 with 2 Axes>"
      ]
     },
     "metadata": {
      "needs_background": "light"
     },
     "output_type": "display_data"
    }
   ],
   "source": [
    "quant_matrix = QuantMatrix(\n",
    "    quantification_file=f\"../data/ms/covid/Aaron_data_cropped.tsv\",\n",
    "    design_matrix_file=f\"../data/ms/covid/design_cropped.tsv\"\n",
    ")\n",
    "\n",
    "qm = quant_matrix.normalize(method=\"mean\").quantify(method='maxlfq', threads=12).impute(method=\"uniform\", percentile=0.1)\n",
    "fig, ax = plt.subplots(2,1)\n",
    "ax[1].hist(qm.to_df()[quant_matrix.get_samples(1)].fillna(0).to_numpy().flatten())\n",
    "ax[0].hist(qm.to_df()[quant_matrix.get_samples(2)].fillna(0).to_numpy().flatten())"
   ]
  },
  {
   "cell_type": "code",
   "execution_count": 8,
   "metadata": {},
   "outputs": [
    {
     "data": {
      "text/plain": [
       "['SAA2',\n",
       " 'PLF4',\n",
       " 'S10A8',\n",
       " 'CXCL7',\n",
       " 'TSP1',\n",
       " 'PIGR',\n",
       " 'CRP',\n",
       " 'PEDF',\n",
       " 'LBP',\n",
       " 'ZA2G']"
      ]
     },
     "execution_count": 8,
     "metadata": {},
     "output_type": "execute_result"
    }
   ],
   "source": [
    "compare_df = qm.compare_groups(\n",
    "        method='linregress',\n",
    "        group_a=1,\n",
    "        group_b=2,\n",
    "        min_samples_per_group = 2, \n",
    "        level='protein',\n",
    "    ).to_df().dropna(subset=['CorrectedPValue'])\n",
    "compare_df\n",
    "compare_df['logPValue'] = compare_df['PValues1-2'].apply(lambda x: -np.log(x))\n",
    "compare_df['DifferentialExpression'] = ((compare_df['logPValue']/max(compare_df['logPValue'].values))**2 \n",
    "                                        + (compare_df['Log2FoldChange1-2']/max(compare_df['Log2FoldChange1-2'].values))**2)**0.5\n",
    "get_proteins_triv_name(compare_df.sort_values('DifferentialExpression', ascending=False)['Protein'][0:10])"
   ]
  },
  {
   "cell_type": "code",
   "execution_count": 6,
   "metadata": {},
   "outputs": [
    {
     "name": "stdout",
     "output_type": "stream",
     "text": [
      "   color  count\n",
      "0  black    165\n",
      "1   blue      3\n",
      "2    red      1\n",
      "Group 1: 125.38790035587189 +- 11.803359022057839 Group 2: 126.15270935960591 +- 10.537352283756169\n"
     ]
    },
    {
     "data": {
      "image/png": "[encoded data removed]",
      "text/plain": [
       "<Figure size 216x432 with 3 Axes>"
      ]
     },
     "metadata": {
      "needs_background": "light"
     },
     "output_type": "display_data"
    }
   ],
   "source": [
    "\n",
    "GroupOneCols = qm.get_samples(1)\n",
    "GroupTwoCols = qm.get_samples(2)\n",
    "compare_df['logPValue'] = compare_df['PValues1-2'].apply(lambda x: -np.log(x))\n",
    "compare_df['color'] = compare_df.apply(lambda x: color_if_significant(x), axis=1)\n",
    "compare_df['count'] = 1\n",
    "print(compare_df.groupby('color', as_index=False).sum()[['color','count']])\n",
    "\n",
    "fig, ax = plt.subplots(3,1,sharex=False, figsize = (3,6), gridspec_kw={'height_ratios': [2, 2,1]})\n",
    "\n",
    "group1_proteins = []\n",
    "for col in GroupOneCols:\n",
    "    group1_proteins.append(compare_df[col].count())\n",
    "group1_mean =  np.mean(group1_proteins)\n",
    "group1_sd = np.std(group1_proteins)\n",
    "group2_proteins = []\n",
    "for col in GroupTwoCols:\n",
    "    group2_proteins.append(compare_df[col].count())\n",
    "group2_mean = np.mean(group2_proteins)\n",
    "group2_sd = np.std(group2_proteins)\n",
    "\n",
    "print(f\"Group 1: {group1_mean} +- {group1_sd} Group 2: {group2_mean} +- {group2_sd}\")\n",
    "\n",
    "\n",
    "ax[1].scatter(x=compare_df['Log2FoldChange1-2'].values , y=compare_df['logPValue'].values, color=compare_df['color'].values, alpha=0.3)\n",
    "\n",
    "ax[1].vlines(1.2, ymin=0, ymax=100, color='gray', linestyle='dashed')\n",
    "ax[1].vlines(-1.2, ymin=0, ymax=100,color='gray', linestyle='dashed')\n",
    "ax[1].hlines(1.31, xmin=-3, xmax=3, color='gray', linestyle='dashed')\n",
    "ax[1].set_ylabel('-log10(p-value)')\n",
    "\n",
    "g = sns.histplot(compare_df['Log2FoldChange1-2'].values, color='black',alpha=0.3, linewidth=0, ax = ax[2])\n",
    "for p in range(len(g.patches)):\n",
    "    x,_ = g.patches[p].xy\n",
    "    if x < -2:\n",
    "        g.patches[p].set_facecolor('blue')\n",
    "    elif x > 2:\n",
    "        g.patches[p].set_facecolor('red')\n",
    "\n",
    "ax[2].set_ylabel('Count')\n",
    "ax[2].set_xlabel('log2(FC)')\n",
    "\n",
    "\n",
    "\n",
    "ax[0].bar(x = ['Sev 1', 'Sev 2'], height = [group1_mean,group2_mean], \n",
    "        yerr=[group1_sd, group2_sd], \n",
    "        capsize=5, \n",
    "        color=['red', 'blue'], \n",
    "        alpha=0.5,)\n",
    "ax[0].set_ylabel('Number of proteins per group')\n",
    "\n",
    "plt.tight_layout()\n",
    "\n",
    "sns.despine(ax=ax[0])\n",
    "sns.despine(ax=ax[1])\n",
    "sns.despine(ax=ax[2])\n",
    "\n",
    "plt.savefig('../plots/manuscript/covid_ProteinVolcanoHist.jpg', bbox_inches='tight', dpi=300)"
   ]
  },
  {
   "cell_type": "code",
   "execution_count": 105,
   "metadata": {},
   "outputs": [
    {
     "data": {
      "text/plain": [
       "(array([2.3827e+04, 0.0000e+00, 0.0000e+00, 0.0000e+00, 9.0000e+00,\n",
       "        2.0100e+03, 1.7593e+04, 1.6862e+04, 7.0200e+03, 8.2100e+02]),\n",
       " array([ 0.        ,  2.89717211,  5.79434422,  8.69151633, 11.58868844,\n",
       "        14.48586055, 17.38303266, 20.28020477, 23.17737688, 26.07454899,\n",
       "        28.97172111]),\n",
       " <BarContainer object of 10 artists>)"
      ]
     },
     "execution_count": 105,
     "metadata": {},
     "output_type": "execute_result"
    },
    {
     "data": {
      "image/png": "[encoded data removed]",
      "text/plain": [
       "<Figure size 432x288 with 2 Axes>"
      ]
     },
     "metadata": {
      "needs_background": "light"
     },
     "output_type": "display_data"
    }
   ],
   "source": [
    "\n",
    "#SEPSIS\n",
    "quant_matrix = QuantMatrix(\n",
    "    quantification_file=f\"{MS_DATA_PATH}/sepsis/inner.tsv\",\n",
    "    design_matrix_file=f\"{MS_DATA_PATH}/sepsis/inner_design_matrix.tsv\"\n",
    ")\n",
    "\n",
    "qm = quant_matrix.normalize(method=\"mean\").quantify(method='maxlfq', threads=12)\n",
    "fig, ax = plt.subplots(2,1)\n",
    "ax[1].hist(qm.to_df()[quant_matrix.get_samples(1)].fillna(0).to_numpy().flatten())\n",
    "ax[0].hist(qm.to_df()[quant_matrix.get_samples(2)].fillna(0).to_numpy().flatten())\n"
   ]
  },
  {
   "cell_type": "code",
   "execution_count": 106,
   "metadata": {},
   "outputs": [
    {
     "data": {
      "text/plain": [
       "(array([12262., 12155.,  5325., 10422.,  9663.,  8892.,  5564.,  2850.,\n",
       "          863.,   146.]),\n",
       " array([13.59386085, 15.13164687, 16.6694329 , 18.20721893, 19.74500495,\n",
       "        21.28279098, 22.820577  , 24.35836303, 25.89614905, 27.43393508,\n",
       "        28.97172111]),\n",
       " <BarContainer object of 10 artists>)"
      ]
     },
     "execution_count": 106,
     "metadata": {},
     "output_type": "execute_result"
    },
    {
     "data": {
      "image/png": "[encoded data removed]",
      "text/plain": [
       "<Figure size 432x288 with 2 Axes>"
      ]
     },
     "metadata": {
      "needs_background": "light"
     },
     "output_type": "display_data"
    }
   ],
   "source": [
    "quant_matrix = QuantMatrix(\n",
    "    quantification_file=f\"{MS_DATA_PATH}/sepsis/inner.tsv\",\n",
    "    design_matrix_file=f\"{MS_DATA_PATH}/sepsis/inner_design_matrix.tsv\"\n",
    ")\n",
    "qm = quant_matrix.normalize(method=\"mean\").quantify(method='maxlfq', threads=12).impute(method=\"uniform\", percentile=0.1)\n",
    "\n",
    "fig, ax = plt.subplots(2,1)\n",
    "ax[1].hist(qm.to_df()[quant_matrix.get_samples(1)].fillna(0).to_numpy().flatten())\n",
    "ax[0].hist(qm.to_df()[quant_matrix.get_samples(2)].fillna(0).to_numpy().flatten())\n",
    "\n"
   ]
  },
  {
   "cell_type": "code",
   "execution_count": 107,
   "metadata": {},
   "outputs": [
    {
     "data": {
      "text/plain": [
       "['BTBDI',\n",
       " 'NGAL',\n",
       " 'OSTP',\n",
       " 'CO1A1',\n",
       " 'LV743',\n",
       " 'CALR',\n",
       " 'MT1E',\n",
       " 'DEF1',\n",
       " 'P04207',\n",
       " 'C163A']"
      ]
     },
     "execution_count": 107,
     "metadata": {},
     "output_type": "execute_result"
    }
   ],
   "source": [
    "compare_df = qm.compare_groups(\n",
    "        method='linregress',\n",
    "        group_a=1,\n",
    "        group_b=2,\n",
    "        min_samples_per_group = 2, \n",
    "        level='protein',\n",
    "    ).to_df().dropna(subset=['CorrectedPValue'])\n",
    "\n",
    "compare_df['logPValue'] = compare_df['PValues1-2'].apply(lambda x: -np.log(x))\n",
    "compare_df['DifferentialExpression'] = ((compare_df['logPValue']/max(compare_df['logPValue'].values))**2 \n",
    "                                        + (compare_df['Log2FoldChange1-2']/max(compare_df['Log2FoldChange1-2'].values))**2)**0.5\n",
    "get_proteins_triv_name(compare_df.sort_values('DifferentialExpression', ascending=False)['Protein'][0:10])"
   ]
  },
  {
   "cell_type": "code",
   "execution_count": 5,
   "metadata": {},
   "outputs": [
    {
     "name": "stdout",
     "output_type": "stream",
     "text": [
      "   color  count\n",
      "0  black    165\n",
      "1   blue      3\n",
      "2    red      1\n",
      "Group 1: 125.38790035587189 +- 11.803359022057839 Group 2: 126.15270935960591 +- 10.537352283756169\n"
     ]
    },
    {
     "data": {
      "image/png": "[encoded data removed]",
      "text/plain": [
       "<Figure size 216x432 with 3 Axes>"
      ]
     },
     "metadata": {
      "needs_background": "light"
     },
     "output_type": "display_data"
    }
   ],
   "source": [
    "\n",
    "GroupOneCols = qm.get_samples(1)\n",
    "GroupTwoCols = qm.get_samples(2)\n",
    "compare_df['logPValue'] = compare_df['PValues1-2'].apply(lambda x: -np.log(x))\n",
    "compare_df['color'] = compare_df.apply(lambda x: color_if_significant(x), axis=1)\n",
    "compare_df['count'] = 1\n",
    "print(compare_df.groupby('color', as_index=False).sum()[['color','count']])\n",
    "\n",
    "fig, ax = plt.subplots(3,1,sharex=False, figsize = (3,6), gridspec_kw={'height_ratios': [2, 2,1]})\n",
    "\n",
    "group1_proteins = []\n",
    "for col in GroupOneCols:\n",
    "    group1_proteins.append(compare_df[col].count())\n",
    "group1_mean =  np.mean(group1_proteins)\n",
    "group1_sd = np.std(group1_proteins)\n",
    "group2_proteins = []\n",
    "for col in GroupTwoCols:\n",
    "    group2_proteins.append(compare_df[col].count())\n",
    "group2_mean = np.mean(group2_proteins)\n",
    "group2_sd = np.std(group2_proteins)\n",
    "\n",
    "print(f\"Group 1: {group1_mean} +- {group1_sd} Group 2: {group2_mean} +- {group2_sd}\")\n",
    "\n",
    "\n",
    "ax[1].scatter(x=compare_df['Log2FoldChange1-2'].values , y=compare_df['logPValue'].values, color=compare_df['color'].values, alpha=0.3)\n",
    "\n",
    "ax[1].vlines(1.2, ymin=0, ymax=50, color='gray', linestyle='dashed')\n",
    "ax[1].vlines(-1.2, ymin=0, ymax=50,color='gray', linestyle='dashed')\n",
    "ax[1].hlines(1.31, xmin=-3, xmax=3, color='gray', linestyle='dashed')\n",
    "ax[1].set_ylabel('-log10(p-value)')\n",
    "\n",
    "g = sns.histplot(compare_df['Log2FoldChange1-2'].values, color='black',alpha=0.3, linewidth=0, ax = ax[2])\n",
    "for p in range(len(g.patches)):\n",
    "    x,_ = g.patches[p].xy\n",
    "    if x < -2:\n",
    "        g.patches[p].set_facecolor('blue')\n",
    "    elif x > 2:\n",
    "        g.patches[p].set_facecolor('red')\n",
    "\n",
    "ax[2].set_ylabel('Count')\n",
    "ax[2].set_xlabel('log2(FC)')\n",
    "\n",
    "\n",
    "\n",
    "ax[0].bar(x = ['Sub 1', 'Sub 2'], height = [group1_mean,group2_mean], \n",
    "        yerr=[group1_sd, group2_sd], \n",
    "        capsize=5, \n",
    "        color=['red', 'blue'], \n",
    "        alpha=0.5,)\n",
    "ax[0].set_ylabel('Number of proteins per group')\n",
    "\n",
    "plt.tight_layout()\n",
    "\n",
    "sns.despine(ax=ax[0])\n",
    "sns.despine(ax=ax[1])\n",
    "sns.despine(ax=ax[2])\n",
    "\n",
    "plt.savefig('../plots/manuscript/sepsis_ProteinVolcanoHist.jpg', bbox_inches='tight', dpi=300)"
   ]
  }
 ],
 "metadata": {
  "interpreter": {
   "hash": "eae7508b21f3653c230424b738ed2068c58a3364cce29c1e1f71a1de90c001b7"
  },
  "kernelspec": {
   "display_name": "Python 3.6.9 ('my-venv': venv)",
   "language": "python",
   "name": "python3"
  },
  "language_info": {
   "codemirror_mode": {
    "name": "ipython",
    "version": 3
   },
   "file_extension": ".py",
   "mimetype": "text/x-python",
   "name": "python",
   "nbconvert_exporter": "python",
   "pygments_lexer": "ipython3",
   "version": "3.9.13"
  },
  "orig_nbformat": 4
 },
 "nbformat": 4,
 "nbformat_minor": 2
}
