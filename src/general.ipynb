{
 "cells": [
  {
   "cell_type": "code",
   "execution_count": 1,
   "metadata": {},
   "outputs": [
    {
     "name": "stdout",
     "output_type": "stream",
     "text": [
      "Base path: ..\n",
      "../data/ms\n"
     ]
    }
   ],
   "source": [
    "import pandas as pd\n",
    "import os\n",
    "import matplotlib.pyplot as plt\n",
    "from UsefulFunctions import *\n",
    "import seaborn as sns\n",
    "from config_path import MS_DATA_PATH\n",
    "print(MS_DATA_PATH)"
   ]
  },
  {
   "cell_type": "code",
   "execution_count": 2,
   "metadata": {},
   "outputs": [
    {
     "name": "stdout",
     "output_type": "stream",
     "text": [
      "30\n",
      "42\n"
     ]
    }
   ],
   "source": [
    "\n",
    "\n",
    "df = pd.read_csv(f'{MS_DATA_PATH}/220316_ghost_nrt_filtered.tsv', sep='\\t')\n",
    "design_matrix = pd.read_csv(f'{MS_DATA_PATH}/design_matrix_group_de_early_time_points_subtypes.tsv', sep='\\t')\n",
    "\n",
    "GroupOneCols = design_matrix[design_matrix['Group'] == 1]['Sample'].values\n",
    "GroupTwoCols = design_matrix[design_matrix['Group'] == 2]['Sample'].values\n",
    "\n",
    "print(len(GroupOneCols))\n",
    "print(len(GroupTwoCols))"
   ]
  },
  {
   "cell_type": "markdown",
   "metadata": {},
   "source": [
    "### Peptide distribution in samples"
   ]
  },
  {
   "cell_type": "code",
   "execution_count": 3,
   "metadata": {},
   "outputs": [
    {
     "name": "stdout",
     "output_type": "stream",
     "text": [
      "# unique proteins: 1039 \n"
     ]
    }
   ],
   "source": [
    "nr_unique_proteins = len(df['Protein'].unique())\n",
    "print(f'# unique proteins: {nr_unique_proteins} ')\n",
    "\n",
    "df['PeptideCount1'] = df[GroupOneCols].count(axis=1)\n",
    "df['PeptideCount2'] = df[GroupTwoCols].count(axis=1)\n",
    "df['PeptideCountSum'] = df['PeptideCount1']+df['PeptideCount2']\n",
    "df['IntensitySum1'] = df[GroupOneCols].sum(axis=1)\n",
    "df['IntensitySum2'] = df[GroupTwoCols].sum(axis=1)\n",
    "df['IntensityMean1'] = df[GroupOneCols].mean(axis=1)\n",
    "df['IntensityMean2'] = df[GroupTwoCols].mean(axis=1)\n",
    "df['FC'] = df['IntensityMean1'] / df['IntensityMean2']\n",
    "df['IntensitySum'] = df['IntensitySum1'] + df['IntensitySum2']"
   ]
  },
  {
   "cell_type": "code",
   "execution_count": 25,
   "metadata": {},
   "outputs": [
    {
     "name": "stdout",
     "output_type": "stream",
     "text": [
      "Sum1:  107377\n",
      "Sum2:  154532\n"
     ]
    },
    {
     "data": {
      "image/png": "[encoded data removed]",
      "text/plain": [
       "<Figure size 216x216 with 1 Axes>"
      ]
     },
     "metadata": {
      "needs_background": "light"
     },
     "output_type": "display_data"
    }
   ],
   "source": [
    "# Histogram of peptides per protein\n",
    "protein_peptide_count = df.groupby('Protein', as_index=False).mean()[['Protein','PeptideCount1','PeptideCount2','PeptideCountSum']]\n",
    "\n",
    "groupratio = len(GroupOneCols)/len(GroupTwoCols)\n",
    "protein_peptide_count = protein_peptide_count.sort_values('PeptideCountSum',ascending=False)\n",
    "df1 = protein_peptide_count[['Protein','PeptideCount1']]\n",
    "df2 = protein_peptide_count[['Protein', 'PeptideCount2']]\n",
    "df1 = df1.rename(columns={'PeptideCount1':'PeptideCount'})\n",
    "df2 = df2.rename(columns={'PeptideCount2':'PeptideCount'})\n",
    "df1['Group'] = 'Group 1'\n",
    "df2['Group'] = 'Group 2'\n",
    "df2['PeptideCount'] = df2['PeptideCount'] * groupratio\n",
    "df1['i'] = range(len(df1.index))\n",
    "df2['i'] = range(len(df2.index))\n",
    "df_new = pd.concat([df1,df2])\n",
    "fig = plt.figure(figsize=(3,3))\n",
    "df_new.reset_index(inplace=True)\n",
    "fig, ax = plt.subplots(2,1,sharex=True, figsize = (4,4), gridspec_kw={'height_ratios': [2, 1]})\n",
    "sns.lineplot(data=df_new, x = 'Protein', y = 'PeptideCount', hue='Group', palette=['red','blue'], alpha=0.5)\n",
    "print('Sum1: ', df['PeptideCount1'].sum())\n",
    "print('Sum2: ', df['PeptideCount2'].sum())\n",
    "plt.xticks([])\n",
    "#plt.xscale('log')\n",
    "plt.xlabel('Proteins')\n",
    "plt.ylabel('mean number of peptides')\n",
    "plt.legend()\n",
    "sns.despine(top=True, right=True, left=False, bottom=False)\n",
    "\n",
    "plt.tight_layout()\n",
    "#plt.savefig('../plots/general/PeptideCount.jpg', dpi=300)"
   ]
  },
  {
   "cell_type": "code",
   "execution_count": 25,
   "metadata": {},
   "outputs": [
    {
     "data": {
      "image/png": "[encoded data removed]",
      "text/plain": [
       "<Figure size 216x216 with 1 Axes>"
      ]
     },
     "metadata": {
      "needs_background": "light"
     },
     "output_type": "display_data"
    }
   ],
   "source": [
    "\n",
    "group1_peptides = []\n",
    "for col in GroupOneCols:\n",
    "    group1_peptides.append(df[col].count())\n",
    "group1_mean =  np.mean(group1_peptides)\n",
    "group1_sd = np.std(group1_peptides)\n",
    "group2_peptides = []\n",
    "for col in GroupTwoCols:\n",
    "    group2_peptides.append(df[col].count())\n",
    "group2_mean = np.mean(group2_peptides)\n",
    "group2_sd = np.std(group2_peptides)\n",
    "fig = plt.figure(figsize=(3,3))\n",
    "plt.bar(x = ['Group 1', 'Group 2'], height = [group1_mean,group2_mean], \n",
    "        yerr=[group1_sd, group2_sd], \n",
    "        capsize=5, \n",
    "        color=['red', 'blue'], \n",
    "        alpha=0.5,)\n",
    "plt.ylabel('Number of peptides per group')\n",
    "sns.despine(top=True, right=True, left=False, bottom=False)\n",
    "plt.tight_layout()\n",
    "plt.savefig('../plots/general/PeptidesPerGroupBar.jpg', dpi=300)"
   ]
  },
  {
   "cell_type": "code",
   "execution_count": 61,
   "metadata": {},
   "outputs": [
    {
     "name": "stderr",
     "output_type": "stream",
     "text": [
      "/tmp/ipykernel_7351/1368713628.py:10: RuntimeWarning: divide by zero encountered in log10\n",
      "  df_new['logI'] = [np.log10(x) for x in df_new['IntensitySum']]\n"
     ]
    },
    {
     "data": {
      "image/png": "[encoded data removed]",
      "text/plain": [
       "<Figure size 216x216 with 1 Axes>"
      ]
     },
     "metadata": {
      "needs_background": "light"
     },
     "output_type": "display_data"
    }
   ],
   "source": [
    "df1 = df[['PeptideSequence','IntensitySum1']]\n",
    "df2 = df[['PeptideSequence', 'IntensitySum2']]\n",
    "df1 = df1.rename(columns={'IntensitySum1':'IntensitySum'})\n",
    "df2 = df2.rename(columns={'IntensitySum2':'IntensitySum'})\n",
    "df1['Group'] = 'Group 1'\n",
    "df2['Group'] = 'Group 2'\n",
    "\n",
    "df_new = pd.concat([df1,df2])\n",
    "df_new.reset_index(inplace=True)\n",
    "df_new['logI'] = [np.log10(x) for x in df_new['IntensitySum']]\n",
    "fig,ax  = plt.subplots(figsize=(3,3))\n",
    "sns.histplot(data=df_new, kde=False, x= 'logI', hue='Group', edgecolor=None, palette=['red','blue'], alpha=0.5, ax=ax)\n",
    "plt.xlabel('log10(Peptide Intensity)')\n",
    "sns.despine()\n",
    "plt.tight_layout()\n",
    "plt.savefig('../plots/general/PeptideIntensityHistogram.jpg', dpi=300)"
   ]
  },
  {
   "cell_type": "markdown",
   "metadata": {},
   "source": [
    "### Protein level"
   ]
  },
  {
   "cell_type": "markdown",
   "metadata": {},
   "source": [
    "## DPKS\n",
    "---"
   ]
  },
  {
   "cell_type": "code",
   "execution_count": 26,
   "metadata": {},
   "outputs": [
    {
     "name": "stderr",
     "output_type": "stream",
     "text": [
      "/home/erikh/master-thesis/my-venv/lib/python3.9/site-packages/dpks/normalization.py:116: RuntimeWarning: Mean of empty slice\n",
      "  sample_means = np.nanmean(X, axis=0)\n"
     ]
    },
    {
     "data": {
      "text/html": [
       "<div>\n",
       "<style scoped>\n",
       "    .dataframe tbody tr th:only-of-type {\n",
       "        vertical-align: middle;\n",
       "    }\n",
       "\n",
       "    .dataframe tbody tr th {\n",
       "        vertical-align: top;\n",
       "    }\n",
       "\n",
       "    .dataframe thead th {\n",
       "        text-align: right;\n",
       "    }\n",
       "</style>\n",
       "<table border=\"1\" class=\"dataframe\">\n",
       "  <thead>\n",
       "    <tr style=\"text-align: right;\">\n",
       "      <th></th>\n",
       "      <th>Protein</th>\n",
       "      <th>Group1Mean</th>\n",
       "      <th>Group2Mean</th>\n",
       "      <th>Log2FoldChange1-2</th>\n",
       "      <th>PValues1-2</th>\n",
       "      <th>Group1RepCounts</th>\n",
       "      <th>Group2RepCounts</th>\n",
       "      <th>CorrectedPValue</th>\n",
       "      <th>TM_M2012_010</th>\n",
       "      <th>TM_M2012_011</th>\n",
       "      <th>...</th>\n",
       "      <th>TM_M2012_177</th>\n",
       "      <th>TM_M2012_178</th>\n",
       "      <th>TM_M2012_182</th>\n",
       "      <th>TM_M2012_183</th>\n",
       "      <th>TM_M2012_186</th>\n",
       "      <th>TM_M2012_188</th>\n",
       "      <th>TM_M2012_189</th>\n",
       "      <th>TM_M2012_196</th>\n",
       "      <th>TM_M2012_197</th>\n",
       "      <th>TM_M2012_198</th>\n",
       "    </tr>\n",
       "  </thead>\n",
       "  <tbody>\n",
       "    <tr>\n",
       "      <th>0</th>\n",
       "      <td>P06396</td>\n",
       "      <td>21.288717</td>\n",
       "      <td>21.226708</td>\n",
       "      <td>0.062010</td>\n",
       "      <td>0.694861</td>\n",
       "      <td>30</td>\n",
       "      <td>42</td>\n",
       "      <td>0.721447</td>\n",
       "      <td>21.690603</td>\n",
       "      <td>20.691873</td>\n",
       "      <td>...</td>\n",
       "      <td>20.419413</td>\n",
       "      <td>21.028937</td>\n",
       "      <td>21.542064</td>\n",
       "      <td>21.509333</td>\n",
       "      <td>21.198022</td>\n",
       "      <td>21.245511</td>\n",
       "      <td>21.200419</td>\n",
       "      <td>23.029393</td>\n",
       "      <td>23.389134</td>\n",
       "      <td>23.470304</td>\n",
       "    </tr>\n",
       "    <tr>\n",
       "      <th>1</th>\n",
       "      <td>P10643</td>\n",
       "      <td>21.516173</td>\n",
       "      <td>21.613422</td>\n",
       "      <td>-0.097249</td>\n",
       "      <td>0.503560</td>\n",
       "      <td>30</td>\n",
       "      <td>42</td>\n",
       "      <td>0.625305</td>\n",
       "      <td>21.677649</td>\n",
       "      <td>21.190349</td>\n",
       "      <td>...</td>\n",
       "      <td>21.893203</td>\n",
       "      <td>21.188014</td>\n",
       "      <td>21.371173</td>\n",
       "      <td>21.436145</td>\n",
       "      <td>21.356409</td>\n",
       "      <td>21.040272</td>\n",
       "      <td>21.362647</td>\n",
       "      <td>21.331875</td>\n",
       "      <td>21.524378</td>\n",
       "      <td>21.930228</td>\n",
       "    </tr>\n",
       "    <tr>\n",
       "      <th>2</th>\n",
       "      <td>P03952</td>\n",
       "      <td>20.936229</td>\n",
       "      <td>20.612498</td>\n",
       "      <td>0.323731</td>\n",
       "      <td>0.045767</td>\n",
       "      <td>30</td>\n",
       "      <td>42</td>\n",
       "      <td>0.149304</td>\n",
       "      <td>21.023477</td>\n",
       "      <td>20.770036</td>\n",
       "      <td>...</td>\n",
       "      <td>20.505599</td>\n",
       "      <td>20.608387</td>\n",
       "      <td>20.970957</td>\n",
       "      <td>20.752389</td>\n",
       "      <td>21.042518</td>\n",
       "      <td>20.957229</td>\n",
       "      <td>21.163873</td>\n",
       "      <td>22.332772</td>\n",
       "      <td>22.704704</td>\n",
       "      <td>22.773377</td>\n",
       "    </tr>\n",
       "    <tr>\n",
       "      <th>3</th>\n",
       "      <td>P02750</td>\n",
       "      <td>23.510573</td>\n",
       "      <td>23.954318</td>\n",
       "      <td>-0.443745</td>\n",
       "      <td>0.003362</td>\n",
       "      <td>30</td>\n",
       "      <td>42</td>\n",
       "      <td>0.023420</td>\n",
       "      <td>22.807610</td>\n",
       "      <td>23.269826</td>\n",
       "      <td>...</td>\n",
       "      <td>23.784981</td>\n",
       "      <td>24.566548</td>\n",
       "      <td>24.806581</td>\n",
       "      <td>24.787613</td>\n",
       "      <td>22.859750</td>\n",
       "      <td>22.901881</td>\n",
       "      <td>23.686287</td>\n",
       "      <td>24.103840</td>\n",
       "      <td>23.764547</td>\n",
       "      <td>24.052968</td>\n",
       "    </tr>\n",
       "    <tr>\n",
       "      <th>4</th>\n",
       "      <td>Q04756</td>\n",
       "      <td>19.586920</td>\n",
       "      <td>18.838137</td>\n",
       "      <td>0.748783</td>\n",
       "      <td>0.000072</td>\n",
       "      <td>30</td>\n",
       "      <td>41</td>\n",
       "      <td>0.001191</td>\n",
       "      <td>19.657972</td>\n",
       "      <td>19.115191</td>\n",
       "      <td>...</td>\n",
       "      <td>18.220235</td>\n",
       "      <td>18.721893</td>\n",
       "      <td>18.931209</td>\n",
       "      <td>18.973254</td>\n",
       "      <td>19.296811</td>\n",
       "      <td>18.608288</td>\n",
       "      <td>19.034313</td>\n",
       "      <td>20.708523</td>\n",
       "      <td>20.283616</td>\n",
       "      <td>20.454671</td>\n",
       "    </tr>\n",
       "    <tr>\n",
       "      <th>...</th>\n",
       "      <td>...</td>\n",
       "      <td>...</td>\n",
       "      <td>...</td>\n",
       "      <td>...</td>\n",
       "      <td>...</td>\n",
       "      <td>...</td>\n",
       "      <td>...</td>\n",
       "      <td>...</td>\n",
       "      <td>...</td>\n",
       "      <td>...</td>\n",
       "      <td>...</td>\n",
       "      <td>...</td>\n",
       "      <td>...</td>\n",
       "      <td>...</td>\n",
       "      <td>...</td>\n",
       "      <td>...</td>\n",
       "      <td>...</td>\n",
       "      <td>...</td>\n",
       "      <td>...</td>\n",
       "      <td>...</td>\n",
       "      <td>...</td>\n",
       "    </tr>\n",
       "    <tr>\n",
       "      <th>1034</th>\n",
       "      <td>P01275</td>\n",
       "      <td>NaN</td>\n",
       "      <td>NaN</td>\n",
       "      <td>NaN</td>\n",
       "      <td>NaN</td>\n",
       "      <td>0</td>\n",
       "      <td>1</td>\n",
       "      <td>NaN</td>\n",
       "      <td>NaN</td>\n",
       "      <td>NaN</td>\n",
       "      <td>...</td>\n",
       "      <td>NaN</td>\n",
       "      <td>NaN</td>\n",
       "      <td>NaN</td>\n",
       "      <td>NaN</td>\n",
       "      <td>NaN</td>\n",
       "      <td>NaN</td>\n",
       "      <td>NaN</td>\n",
       "      <td>NaN</td>\n",
       "      <td>NaN</td>\n",
       "      <td>NaN</td>\n",
       "    </tr>\n",
       "    <tr>\n",
       "      <th>1035</th>\n",
       "      <td>P16104</td>\n",
       "      <td>NaN</td>\n",
       "      <td>NaN</td>\n",
       "      <td>NaN</td>\n",
       "      <td>NaN</td>\n",
       "      <td>0</td>\n",
       "      <td>1</td>\n",
       "      <td>NaN</td>\n",
       "      <td>NaN</td>\n",
       "      <td>NaN</td>\n",
       "      <td>...</td>\n",
       "      <td>NaN</td>\n",
       "      <td>NaN</td>\n",
       "      <td>NaN</td>\n",
       "      <td>NaN</td>\n",
       "      <td>NaN</td>\n",
       "      <td>NaN</td>\n",
       "      <td>NaN</td>\n",
       "      <td>NaN</td>\n",
       "      <td>NaN</td>\n",
       "      <td>19.966682</td>\n",
       "    </tr>\n",
       "    <tr>\n",
       "      <th>1036</th>\n",
       "      <td>O00194</td>\n",
       "      <td>NaN</td>\n",
       "      <td>NaN</td>\n",
       "      <td>NaN</td>\n",
       "      <td>NaN</td>\n",
       "      <td>0</td>\n",
       "      <td>0</td>\n",
       "      <td>NaN</td>\n",
       "      <td>NaN</td>\n",
       "      <td>NaN</td>\n",
       "      <td>...</td>\n",
       "      <td>NaN</td>\n",
       "      <td>NaN</td>\n",
       "      <td>NaN</td>\n",
       "      <td>NaN</td>\n",
       "      <td>NaN</td>\n",
       "      <td>NaN</td>\n",
       "      <td>NaN</td>\n",
       "      <td>NaN</td>\n",
       "      <td>NaN</td>\n",
       "      <td>NaN</td>\n",
       "    </tr>\n",
       "    <tr>\n",
       "      <th>1037</th>\n",
       "      <td>Q6R327</td>\n",
       "      <td>NaN</td>\n",
       "      <td>NaN</td>\n",
       "      <td>NaN</td>\n",
       "      <td>NaN</td>\n",
       "      <td>0</td>\n",
       "      <td>0</td>\n",
       "      <td>NaN</td>\n",
       "      <td>NaN</td>\n",
       "      <td>NaN</td>\n",
       "      <td>...</td>\n",
       "      <td>NaN</td>\n",
       "      <td>NaN</td>\n",
       "      <td>NaN</td>\n",
       "      <td>NaN</td>\n",
       "      <td>NaN</td>\n",
       "      <td>NaN</td>\n",
       "      <td>NaN</td>\n",
       "      <td>NaN</td>\n",
       "      <td>NaN</td>\n",
       "      <td>NaN</td>\n",
       "    </tr>\n",
       "    <tr>\n",
       "      <th>1038</th>\n",
       "      <td>Q15056</td>\n",
       "      <td>21.893805</td>\n",
       "      <td>22.070760</td>\n",
       "      <td>-0.176955</td>\n",
       "      <td>0.761641</td>\n",
       "      <td>8</td>\n",
       "      <td>9</td>\n",
       "      <td>0.752814</td>\n",
       "      <td>NaN</td>\n",
       "      <td>NaN</td>\n",
       "      <td>...</td>\n",
       "      <td>NaN</td>\n",
       "      <td>NaN</td>\n",
       "      <td>NaN</td>\n",
       "      <td>NaN</td>\n",
       "      <td>NaN</td>\n",
       "      <td>NaN</td>\n",
       "      <td>NaN</td>\n",
       "      <td>22.755072</td>\n",
       "      <td>NaN</td>\n",
       "      <td>NaN</td>\n",
       "    </tr>\n",
       "  </tbody>\n",
       "</table>\n",
       "<p>1039 rows × 80 columns</p>\n",
       "</div>"
      ],
      "text/plain": [
       "     Protein  Group1Mean  Group2Mean  Log2FoldChange1-2  PValues1-2  \\\n",
       "0     P06396   21.288717   21.226708           0.062010    0.694861   \n",
       "1     P10643   21.516173   21.613422          -0.097249    0.503560   \n",
       "2     P03952   20.936229   20.612498           0.323731    0.045767   \n",
       "3     P02750   23.510573   23.954318          -0.443745    0.003362   \n",
       "4     Q04756   19.586920   18.838137           0.748783    0.000072   \n",
       "...      ...         ...         ...                ...         ...   \n",
       "1034  P01275         NaN         NaN                NaN         NaN   \n",
       "1035  P16104         NaN         NaN                NaN         NaN   \n",
       "1036  O00194         NaN         NaN                NaN         NaN   \n",
       "1037  Q6R327         NaN         NaN                NaN         NaN   \n",
       "1038  Q15056   21.893805   22.070760          -0.176955    0.761641   \n",
       "\n",
       "      Group1RepCounts  Group2RepCounts  CorrectedPValue  TM_M2012_010  \\\n",
       "0                  30               42         0.721447     21.690603   \n",
       "1                  30               42         0.625305     21.677649   \n",
       "2                  30               42         0.149304     21.023477   \n",
       "3                  30               42         0.023420     22.807610   \n",
       "4                  30               41         0.001191     19.657972   \n",
       "...               ...              ...              ...           ...   \n",
       "1034                0                1              NaN           NaN   \n",
       "1035                0                1              NaN           NaN   \n",
       "1036                0                0              NaN           NaN   \n",
       "1037                0                0              NaN           NaN   \n",
       "1038                8                9         0.752814           NaN   \n",
       "\n",
       "      TM_M2012_011  ...  TM_M2012_177  TM_M2012_178  TM_M2012_182  \\\n",
       "0        20.691873  ...     20.419413     21.028937     21.542064   \n",
       "1        21.190349  ...     21.893203     21.188014     21.371173   \n",
       "2        20.770036  ...     20.505599     20.608387     20.970957   \n",
       "3        23.269826  ...     23.784981     24.566548     24.806581   \n",
       "4        19.115191  ...     18.220235     18.721893     18.931209   \n",
       "...            ...  ...           ...           ...           ...   \n",
       "1034           NaN  ...           NaN           NaN           NaN   \n",
       "1035           NaN  ...           NaN           NaN           NaN   \n",
       "1036           NaN  ...           NaN           NaN           NaN   \n",
       "1037           NaN  ...           NaN           NaN           NaN   \n",
       "1038           NaN  ...           NaN           NaN           NaN   \n",
       "\n",
       "      TM_M2012_183  TM_M2012_186  TM_M2012_188  TM_M2012_189  TM_M2012_196  \\\n",
       "0        21.509333     21.198022     21.245511     21.200419     23.029393   \n",
       "1        21.436145     21.356409     21.040272     21.362647     21.331875   \n",
       "2        20.752389     21.042518     20.957229     21.163873     22.332772   \n",
       "3        24.787613     22.859750     22.901881     23.686287     24.103840   \n",
       "4        18.973254     19.296811     18.608288     19.034313     20.708523   \n",
       "...            ...           ...           ...           ...           ...   \n",
       "1034           NaN           NaN           NaN           NaN           NaN   \n",
       "1035           NaN           NaN           NaN           NaN           NaN   \n",
       "1036           NaN           NaN           NaN           NaN           NaN   \n",
       "1037           NaN           NaN           NaN           NaN           NaN   \n",
       "1038           NaN           NaN           NaN           NaN     22.755072   \n",
       "\n",
       "      TM_M2012_197  TM_M2012_198  \n",
       "0        23.389134     23.470304  \n",
       "1        21.524378     21.930228  \n",
       "2        22.704704     22.773377  \n",
       "3        23.764547     24.052968  \n",
       "4        20.283616     20.454671  \n",
       "...            ...           ...  \n",
       "1034           NaN           NaN  \n",
       "1035           NaN     19.966682  \n",
       "1036           NaN           NaN  \n",
       "1037           NaN           NaN  \n",
       "1038           NaN           NaN  \n",
       "\n",
       "[1039 rows x 80 columns]"
      ]
     },
     "execution_count": 26,
     "metadata": {},
     "output_type": "execute_result"
    }
   ],
   "source": [
    "from dpks.quant_matrix import QuantMatrix\n",
    "\n",
    "quant_matrix = QuantMatrix(\n",
    "    quantification_file=f\"{MS_DATA_PATH}/220316_ghost_nrt_filtered.tsv\",\n",
    "    design_matrix_file=f\"{MS_DATA_PATH}/design_matrix_group_de_early_time_points_subtypes.tsv\"\n",
    ")\n",
    "\n",
    "compare_df = (\n",
    "        quant_matrix\n",
    "        .filter() # filter for q-values (removes rows with low q value (peptides), Q = 0.01) and removes decoys\n",
    "        .normalize(method=\"mean\", use_rt_sliding_window_filter = True) # best type of normalization is RT-sliding window\n",
    "        .quantify(method=\"maxlfq\") # play around with minimum_subgroups (default is set 1)\n",
    "    ).compare_groups(\n",
    "        method='linregress',\n",
    "        group_a=1,\n",
    "        group_b=2,\n",
    "        min_samples_per_group = 2, \n",
    "        level='protein',\n",
    "    ).to_df()\n",
    "compare_df"
   ]
  },
  {
   "cell_type": "code",
   "execution_count": 55,
   "metadata": {},
   "outputs": [
    {
     "name": "stderr",
     "output_type": "stream",
     "text": [
      "/tmp/ipykernel_1586/1900047276.py:17: RuntimeWarning: divide by zero encountered in log10\n",
      "  df_new['logI'] = [np.log10(x) for x in df_new['IntensitySum']]\n"
     ]
    },
    {
     "data": {
      "image/png": "[encoded data removed]",
      "text/plain": [
       "<Figure size 288x432 with 2 Axes>"
      ]
     },
     "metadata": {
      "needs_background": "light"
     },
     "output_type": "display_data"
    }
   ],
   "source": [
    "prot_df1 = compare_df[['Protein','Group1Mean']]\n",
    "prot_df2 = compare_df[['Protein', 'Group2Mean']]\n",
    "prot_df1 = prot_df1.rename(columns={'Group1Mean':'GroupMean'})\n",
    "prot_df2 = prot_df2.rename(columns={'Group2Mean':'GroupMean'})\n",
    "prot_df1['Group'] = 'Group 1'\n",
    "prot_df2['Group'] = 'Group 2'\n",
    "\n",
    "df1 = df[['PeptideSequence','IntensitySum1']]\n",
    "df2 = df[['PeptideSequence', 'IntensitySum2']]\n",
    "df1 = df1.rename(columns={'IntensitySum1':'IntensitySum'})\n",
    "df2 = df2.rename(columns={'IntensitySum2':'IntensitySum'})\n",
    "df1['Group'] = 'Group 1'\n",
    "df2['Group'] = 'Group 2'\n",
    "\n",
    "df_new = pd.concat([df1,df2])\n",
    "df_new.reset_index(inplace=True)\n",
    "df_new['logI'] = [np.log10(x) for x in df_new['IntensitySum']]\n",
    "fig, ax = plt.subplots(2,1,figsize = (4,6), gridspec_kw={'height_ratios': [1, 1]})\n",
    "\n",
    "sns.histplot(data=df_new, kde=False, x= 'logI', hue='Group', edgecolor=None, palette=['red','blue'], alpha=0.5, ax=ax[0])\n",
    "ax[0].set_xlabel('log10(Peptide Intensity)')\n",
    "sns.despine()\n",
    "plt.tight_layout()\n",
    "\n",
    "prot_df_new = pd.concat([prot_df1,prot_df2])\n",
    "prot_df_new.reset_index(inplace=True)\n",
    "sns.histplot(data=prot_df_new, kde=False, x= 'GroupMean', hue='Group', edgecolor=None, legend=False, palette=['red','blue'], alpha=0.5, ax=ax[1])\n",
    "ax[1].set_xlabel('Group mean protein abundance')\n",
    "\n",
    "plt.savefig('../plots/general/PepProtHist.jpg', dpi=300, bbox_inches='tight')"
   ]
  },
  {
   "cell_type": "code",
   "execution_count": 60,
   "metadata": {},
   "outputs": [
    {
     "data": {
      "image/png": "[encoded data removed]",
      "text/plain": [
       "<Figure size 216x216 with 1 Axes>"
      ]
     },
     "metadata": {
      "needs_background": "light"
     },
     "output_type": "display_data"
    }
   ],
   "source": [
    "#Proteins per group\n",
    "group1_proteins = []\n",
    "for col in GroupOneCols:\n",
    "    group1_proteins.append(compare_df[col].count())\n",
    "group1_mean =  np.mean(group1_proteins)\n",
    "group1_sd = np.std(group1_proteins)\n",
    "group2_proteins = []\n",
    "for col in GroupTwoCols:\n",
    "    group2_proteins.append(compare_df[col].count())\n",
    "group2_mean = np.mean(group2_proteins)\n",
    "group2_sd = np.std(group2_proteins)\n",
    "fig = plt.figure(figsize=(3,3))\n",
    "plt.bar(x = ['Group 1', 'Group 2'], height = [group1_mean,group2_mean], \n",
    "        yerr=[group1_sd, group2_sd], \n",
    "        capsize=5, \n",
    "        color=['red', 'blue'], \n",
    "        alpha=0.5,)\n",
    "plt.ylabel('Number of proteins per group')\n",
    "sns.despine(top=True, right=True, left=False, bottom=False)\n",
    "plt.tight_layout()\n",
    "plt.savefig('../plots/general/ProteinsPerGroupBar.jpg', dpi=300)"
   ]
  },
  {
   "cell_type": "code",
   "execution_count": 56,
   "metadata": {},
   "outputs": [
    {
     "data": {
      "image/png": "[encoded data removed]",
      "text/plain": [
       "<Figure size 288x432 with 2 Axes>"
      ]
     },
     "metadata": {
      "needs_background": "light"
     },
     "output_type": "display_data"
    }
   ],
   "source": [
    "compare_df = compare_df.sort_values('Log2FoldChange1-2', ascending=False)\n",
    "protein_peptide_count = df.groupby('Protein', as_index=False).mean()[['Protein','PeptideCount1','PeptideCount2','PeptideCountSum']]\n",
    "compare_df_no_NaN = compare_df.dropna(subset=['Log2FoldChange1-2'])\n",
    "#print(compare_df_no_NaN[:5].Protein, compare_df_no_NaN[:5]['Log2FoldChange1-2'])\n",
    "#print(compare_df_no_NaN[len(compare_df_no_NaN.index)-5:len(compare_df_no_NaN.index)].Protein, \n",
    "     # compare_df_no_NaN[len(compare_df_no_NaN.index)-5:len(compare_df_no_NaN.index)]['Log2FoldChange1-2'])\n",
    "def pltcolor(vals):\n",
    "    cols=[]\n",
    "    for y in vals:\n",
    "        if y > 0:\n",
    "            cols.append('red')\n",
    "        else:\n",
    "            cols.append('blue')\n",
    "    return cols\n",
    "colors = pltcolor(compare_df['Log2FoldChange1-2'].values)\n",
    "\n",
    "\n",
    "\n",
    "groupratio = len(GroupOneCols)/len(GroupTwoCols)\n",
    "protein_peptide_count = protein_peptide_count.sort_values('PeptideCountSum',ascending=False)\n",
    "df1 = protein_peptide_count[['Protein','PeptideCount1']]\n",
    "df2 = protein_peptide_count[['Protein', 'PeptideCount2']]\n",
    "df1 = df1.rename(columns={'PeptideCount1':'PeptideCount'})\n",
    "df2 = df2.rename(columns={'PeptideCount2':'PeptideCount'})\n",
    "df1['Group'] = 'Group 1'\n",
    "df2['Group'] = 'Group 2'\n",
    "df2['PeptideCount'] = df2['PeptideCount'] * groupratio\n",
    "df1['i'] = range(len(df1.index))\n",
    "df2['i'] = range(len(df2.index))\n",
    "df_new = pd.concat([df1,df2])\n",
    "df_new.reset_index(inplace=True)\n",
    "\n",
    "\n",
    "\n",
    "fig, ax = plt.subplots(2,1,figsize = (4,6), gridspec_kw={'height_ratios': [1, 1]})\n",
    "\n",
    "\n",
    "sns.lineplot(data=df_new, x = 'Protein', y = 'PeptideCount', hue='Group', palette=['red','blue'], alpha=0.5, ax=ax[0])\n",
    "\n",
    "ax[0].set_xticks([])\n",
    "#plt.xscale('log')\n",
    "ax[0].set_xlabel('Proteins')\n",
    "ax[0].set_ylabel('mean number of peptides')\n",
    "ax[0].legend()\n",
    "sns.despine(top=True, right=True, left=False, bottom=False)\n",
    "\n",
    "\n",
    "g = ax[1].scatter(x=range(len(compare_df.index)),y=compare_df['Log2FoldChange1-2'], alpha=0.7,color=colors)\n",
    "sns.despine()\n",
    "ax[1].set_ylabel('log2(Fold change)')\n",
    "plt.tight_layout()\n",
    "ax[1].set_xlabel('Proteins')\n",
    "plt.savefig('../plots/general/PeptideDistFC.jpg', bbox_inches='tight', dpi=300)\n"
   ]
  },
  {
   "cell_type": "code",
   "execution_count": 57,
   "metadata": {},
   "outputs": [
    {
     "data": {
      "image/png": "[encoded data removed]",
      "text/plain": [
       "<Figure size 288x432 with 3 Axes>"
      ]
     },
     "metadata": {
      "needs_background": "light"
     },
     "output_type": "display_data"
    }
   ],
   "source": [
    "compare_df['logPValue'] = -1.0 * np.log10(compare_df['CorrectedPValue'])\n",
    "compare_df['color'] = compare_df.apply(lambda x: color_if_significant(x), axis=1)\n",
    "\n",
    "fig, ax = plt.subplots(3,1,sharex=False, figsize = (4,6), gridspec_kw={'height_ratios': [2, 1, 2]})\n",
    "\n",
    "group1_proteins = []\n",
    "for col in GroupOneCols:\n",
    "    group1_proteins.append(compare_df[col].count())\n",
    "group1_mean =  np.mean(group1_proteins)\n",
    "group1_sd = np.std(group1_proteins)\n",
    "group2_proteins = []\n",
    "for col in GroupTwoCols:\n",
    "    group2_proteins.append(compare_df[col].count())\n",
    "group2_mean = np.mean(group2_proteins)\n",
    "group2_sd = np.std(group2_proteins)\n",
    "\n",
    "\n",
    "ax[0].scatter(x=compare_df['Log2FoldChange1-2'].values , y=compare_df['logPValue'].values, color=compare_df['color'].values, alpha=0.3)\n",
    "\n",
    "ax[0].vlines(1.2, ymin=0, ymax=12, color='k', linestyle='dashed')\n",
    "ax[0].vlines(-1.2, ymin=0, ymax=12,color='k', linestyle='dashed')\n",
    "ax[0].hlines(1.31, xmin=-4, xmax=6, color='red', linestyle='dashed')\n",
    "ax[0].set_ylabel('-log10(p-value)')\n",
    "\n",
    "g = sns.histplot(compare_df['Log2FoldChange1-2'].values, color='black',alpha=0.3, linewidth=0, ax = ax[1])\n",
    "for p in range(len(g.patches)):\n",
    "    x,_ = g.patches[p].xy\n",
    "    if x < -2:\n",
    "        g.patches[p].set_facecolor('blue')\n",
    "    elif x > 2:\n",
    "        g.patches[p].set_facecolor('red')\n",
    "\n",
    "ax[1].set_ylabel('Count')\n",
    "ax[1].set_xlabel('log2(Group 1 / Group 2)')\n",
    "\n",
    "ax[2].bar(x = ['Group 1', 'Group 2'], height = [group1_mean,group2_mean], \n",
    "        yerr=[group1_sd, group2_sd], \n",
    "        capsize=5, \n",
    "        color=['red', 'blue'], \n",
    "        alpha=0.5,)\n",
    "ax[2].set_ylabel('Number of proteins per group')\n",
    "\n",
    "plt.tight_layout()\n",
    "sns.despine(ax=ax[0])\n",
    "sns.despine(ax=ax[1])\n",
    "sns.despine(ax=ax[2])\n",
    "\n",
    "plt.savefig('../plots/general/ProteinVolcanoHist.jpg', bbox_inches='tight', dpi=300)"
   ]
  },
  {
   "cell_type": "code",
   "execution_count": 44,
   "metadata": {},
   "outputs": [
    {
     "name": "stderr",
     "output_type": "stream",
     "text": [
      "/home/erikh/master-thesis/my-venv/lib/python3.9/site-packages/dpks/normalization.py:116: RuntimeWarning: Mean of empty slice\n",
      "  sample_means = np.nanmean(X, axis=0)\n"
     ]
    }
   ],
   "source": [
    "quant_matrix = QuantMatrix(\n",
    "    quantification_file=f\"{MS_DATA_PATH}/220316_ghost_nrt_filtered.tsv\",\n",
    "    design_matrix_file=f\"{MS_DATA_PATH}/design_matrix_group_de_early_time_points_subtypes.tsv\"\n",
    ")\n",
    "\n",
    "precursor_compare_df = (quant_matrix.filter().normalize(method=\"mean\", use_rt_sliding_window_filter = True)).compare_groups(\n",
    "        method='linregress',\n",
    "        group_a=1,\n",
    "        group_b=2,\n",
    "        min_samples_per_group = 2, \n",
    "        level='precursor',\n",
    "    ).to_df()"
   ]
  },
  {
   "cell_type": "code",
   "execution_count": 58,
   "metadata": {},
   "outputs": [
    {
     "data": {
      "image/png": "[encoded data removed]",
      "text/plain": [
       "<Figure size 288x432 with 3 Axes>"
      ]
     },
     "metadata": {
      "needs_background": "light"
     },
     "output_type": "display_data"
    }
   ],
   "source": [
    "precursor_compare_df['logPValue'] = -1.0 * np.log10(precursor_compare_df['PValues1-2'])\n",
    "precursor_compare_df['color'] = precursor_compare_df.apply(lambda x: color_if_significant(x), axis=1)\n",
    "\n",
    "group1_precursor = []\n",
    "for col in GroupOneCols:\n",
    "    group1_precursor.append(precursor_compare_df[col].count())\n",
    "group1_mean =  np.mean(group1_precursor)\n",
    "group1_sd = np.std(group1_precursor)\n",
    "group2_precursor = []\n",
    "for col in GroupTwoCols:\n",
    "    group2_precursor.append(precursor_compare_df[col].count())\n",
    "group2_mean = np.mean(group2_precursor)\n",
    "group2_sd = np.std(group2_precursor)\n",
    "\n",
    "fig, ax = plt.subplots(3,1, figsize = (4,6), gridspec_kw={'height_ratios': [2, 1, 2]})\n",
    "ax[0].scatter(x=precursor_compare_df['Log2FoldChange1-2'].values , y=precursor_compare_df['logPValue'].values, color=precursor_compare_df['color'].values, alpha=0.3)\n",
    "\n",
    "ax[0].vlines(1.2, ymin=0, ymax=12, color='k', linestyle='dashed')\n",
    "ax[0].vlines(-1.2, ymin=0, ymax=12,color='k', linestyle='dashed')\n",
    "ax[0].hlines(1.31, xmin=-6, xmax=6, color='red', linestyle='dashed')\n",
    "ax[0].set_ylabel('-log10(p-value)')\n",
    "\n",
    "g = sns.histplot(precursor_compare_df['Log2FoldChange1-2'].values, color='black',alpha=0.3, linewidth=0, ax = ax[1])\n",
    "for p in range(len(g.patches)):\n",
    "    x,_ = g.patches[p].xy\n",
    "    if x < -2:\n",
    "        g.patches[p].set_facecolor('blue')\n",
    "    elif x > 2:\n",
    "        g.patches[p].set_facecolor('red')\n",
    "\n",
    "ax[1].set_ylabel('Count')\n",
    "\n",
    "ax[2].bar(x = ['Group 1', 'Group 2'], height = [group1_mean,group2_mean], \n",
    "        yerr=[group1_sd, group2_sd], \n",
    "        capsize=5, \n",
    "        color=['red', 'blue'], \n",
    "        alpha=0.5,)\n",
    "ax[2].set_ylabel('Number of precursors per group')\n",
    "\n",
    "plt.tight_layout()\n",
    "sns.despine(ax=ax[0])\n",
    "sns.despine(ax=ax[1])\n",
    "sns.despine(ax=ax[2])\n",
    "plt.savefig('../plots/general/PrecursorVolcanoHist.jpg', bbox_inches='tight', dpi=300)"
   ]
  }
 ],
 "metadata": {
  "interpreter": {
   "hash": "eae7508b21f3653c230424b738ed2068c58a3364cce29c1e1f71a1de90c001b7"
  },
  "kernelspec": {
   "display_name": "Python 3.6.9 ('my-venv': venv)",
   "language": "python",
   "name": "python3"
  },
  "language_info": {
   "codemirror_mode": {
    "name": "ipython",
    "version": 3
   },
   "file_extension": ".py",
   "mimetype": "text/x-python",
   "name": "python",
   "nbconvert_exporter": "python",
   "pygments_lexer": "ipython3",
   "version": "3.9.13"
  },
  "orig_nbformat": 4
 },
 "nbformat": 4,
 "nbformat_minor": 2
}
