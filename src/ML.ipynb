{
 "cells": [
  {
   "cell_type": "code",
   "execution_count": 1,
   "metadata": {},
   "outputs": [],
   "source": [
    "import pandas as pd\n",
    "from useful_functions import * \n",
    "\n",
    "from dpks.quant_matrix import QuantMatrix"
   ]
  },
  {
   "cell_type": "code",
   "execution_count": 4,
   "metadata": {},
   "outputs": [],
   "source": [
    "df = pd.read_csv('../data/220316_ghost_nrt_filtered.tsv', sep='\\t')\n",
    "design_matrix = pd.read_csv('../data/design_matrix_group_de_early_time_points_subtypes.tsv', sep='\\t')\n",
    "\n",
    "GroupOneCols = design_matrix[design_matrix['Group'] == 1]['Sample'].values\n",
    "GroupTwoCols = design_matrix[design_matrix['Group'] == 2]['Sample'].values\n",
    "\n",
    "quant_matrix = QuantMatrix(\n",
    "    quantification_file=\"../data/220316_ghost_nrt_filtered.tsv\",\n",
    "    design_matrix_file=\"../data/design_matrix_group_de_early_time_points_subtypes.tsv\"\n",
    ")\n",
    "\n",
    "\n",
    "quantified_proteins = (\n",
    "    quant_matrix.\n",
    "    filter()\n",
    "    .normalize(method=\"mean\")\n",
    "    .quantify(method=\"maxlfq\")\n",
    ").to_df()"
   ]
  },
  {
   "cell_type": "code",
   "execution_count": 5,
   "metadata": {},
   "outputs": [
    {
     "name": "stdout",
     "output_type": "stream",
     "text": [
      "Number of features: 1039\n",
      "Training datapoints: 57. Testing datapoints 15\n"
     ]
    }
   ],
   "source": [
    "from sklearn.model_selection import train_test_split\n",
    "\n",
    "df1 = quantified_proteins[GroupOneCols].T\n",
    "df2 = quantified_proteins[GroupTwoCols].T\n",
    "\n",
    "y = [1 for x in GroupOneCols]\n",
    "y += [2 for x in GroupTwoCols]\n",
    "X = pd.concat([df1,df2])\n",
    "X = X.fillna(0).to_numpy()\n",
    "\n",
    "print(f\"Number of features: {len(X[1])}\")\n",
    "\n",
    "X_train, X_test, y_train, y_test = train_test_split(X, y, test_size=0.2, random_state=42)\n",
    "\n",
    "print(f'Training datapoints: {len(y_train)}. Testing datapoints {len(y_test)}')\n"
   ]
  },
  {
   "cell_type": "code",
   "execution_count": 9,
   "metadata": {},
   "outputs": [
    {
     "data": {
      "text/plain": [
       "array([[32.27775943, 33.90685418, 32.01153753, ...,  0.        ,\n",
       "         0.        ,  0.        ],\n",
       "       [31.76490117, 35.08530593, 31.33449548, ...,  0.        ,\n",
       "         0.        ,  0.        ],\n",
       "       [31.28394312, 34.97840528, 30.94981859, ...,  0.        ,\n",
       "         0.        ,  0.        ],\n",
       "       ...,\n",
       "       [31.33805864, 34.17679537, 31.07706221, ...,  0.        ,\n",
       "         0.        ,  0.        ],\n",
       "       [29.7145224 , 34.51796941, 29.52255312, ...,  0.        ,\n",
       "         3.49796962,  2.32938072],\n",
       "       [31.31994867, 34.97560667, 29.7619668 , ...,  0.        ,\n",
       "         0.        ,  0.        ]])"
      ]
     },
     "execution_count": 9,
     "metadata": {},
     "output_type": "execute_result"
    }
   ],
   "source": [
    "from sklearn import preprocessing\n",
    "\n",
    "# I think there is a problem with scaling since the data is sparse\n",
    "\n",
    "scaler = preprocessing.StandardScaler(with_mean=False).fit(X_train)\n",
    "X_train_scaled = scaler.transform(X_train)\n",
    "X_test_scaled = scaler.transform(X_test)\n",
    "\n"
   ]
  },
  {
   "cell_type": "code",
   "execution_count": 7,
   "metadata": {},
   "outputs": [
    {
     "data": {
      "text/plain": [
       "array([2, 2, 2, 1, 2, 2, 2, 2, 2, 2, 2, 2, 2, 2, 2])"
      ]
     },
     "execution_count": 7,
     "metadata": {},
     "output_type": "execute_result"
    }
   ],
   "source": [
    "# SVM\n",
    "from sklearn import svm\n",
    "\n",
    "clf = svm.SVC()\n",
    "clf.fit(X_train, y_train)\n",
    "clf.predict(X_test)"
   ]
  },
  {
   "cell_type": "code",
   "execution_count": null,
   "metadata": {},
   "outputs": [],
   "source": []
  }
 ],
 "metadata": {
  "interpreter": {
   "hash": "eae7508b21f3653c230424b738ed2068c58a3364cce29c1e1f71a1de90c001b7"
  },
  "kernelspec": {
   "display_name": "Python 3.6.9 ('my-venv': venv)",
   "language": "python",
   "name": "python3"
  },
  "language_info": {
   "codemirror_mode": {
    "name": "ipython",
    "version": 3
   },
   "file_extension": ".py",
   "mimetype": "text/x-python",
   "name": "python",
   "nbconvert_exporter": "python",
   "pygments_lexer": "ipython3",
   "version": "3.9.13"
  },
  "orig_nbformat": 4
 },
 "nbformat": 4,
 "nbformat_minor": 2
}
