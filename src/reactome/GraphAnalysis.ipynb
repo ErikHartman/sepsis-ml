{
 "cells": [
  {
   "cell_type": "code",
   "execution_count": 1,
   "metadata": {},
   "outputs": [],
   "source": [
    "import pandas as pd\n",
    "import networkx as nx\n",
    "import matplotlib.pyplot as plt\n",
    "import csv\n",
    "import numpy as np"
   ]
  },
  {
   "cell_type": "code",
   "execution_count": 2,
   "metadata": {},
   "outputs": [],
   "source": [
    "def read_data(filepath):\n",
    "    df = pd.read_csv(filepath)\n",
    "    df = df.groupby(['source','target'], as_index=False).mean()\n",
    "    df['value'] = df['value']*2\n",
    "    df['unique'] = df.apply(lambda x: True if x['source'] != x['target'] else False, axis=1)\n",
    "   # df = df[df['unique'] == True]\n",
    "    return df\n",
    "\n"
   ]
  },
  {
   "cell_type": "code",
   "execution_count": 3,
   "metadata": {},
   "outputs": [],
   "source": [
    "def create_graph(df, val_col = \"value\"):\n",
    "    G = nx.DiGraph()\n",
    "    for k in df.iterrows():\n",
    "        source = k[1]['source']\n",
    "        value = k[1][val_col]\n",
    "        source_layer = k[1]['source layer']+1\n",
    "        G.add_node(source, weight=value, layer=source_layer)\n",
    "    for k in df.iterrows():\n",
    "        source = k[1]['source']\n",
    "        target = k[1]['target']\n",
    "        G.add_edge(source, target)\n",
    "    root_layer = max(df['target layer'])+1\n",
    "    G.add_node('root', weight=0, layer = root_layer)\n",
    "    return G\n",
    "\n"
   ]
  },
  {
   "cell_type": "code",
   "execution_count": 4,
   "metadata": {},
   "outputs": [],
   "source": [
    "def get_downstream_subgraph(G, query_node, depth_limit=None):\n",
    "    SG = nx.DiGraph()\n",
    "    nodes = [n for n in nx.traversal.bfs_successors(G, query_node,depth_limit=depth_limit ) if n != query_node]\n",
    "    for source, targets in nodes:\n",
    "        SG.add_node(source, **G.nodes()[source])\n",
    "        for t in targets:\n",
    "            SG.add_node(t, **G.nodes()[t])\n",
    "    for node1 in SG.nodes():\n",
    "        for node2 in SG.nodes():\n",
    "            if G.has_edge(node1,node2):\n",
    "                SG.add_edge(node1,node2)\n",
    "                \n",
    "    SG.add_node(query_node, **G.nodes()[query_node])\n",
    "    return SG\n",
    "\n",
    "def get_upstream_subgraph(G, query_node,depth_limit=None):\n",
    "    G = G.reverse()\n",
    "    SG = get_downstream_subgraph(G, query_node, depth_limit=depth_limit)\n",
    "    return SG\n",
    "    \n",
    "def get_complete_subgraph(G, query_node, depth_limit=None):\n",
    "    SG = get_downstream_subgraph(G, query_node)\n",
    "    G = G.reverse()\n",
    "    nodes = [n for n in nx.traversal.bfs_successors(G, query_node, depth_limit=depth_limit) if n != query_node]\n",
    "    for source, targets in nodes:\n",
    "        SG.add_node(source, **G.nodes()[source])\n",
    "        for t in targets:\n",
    "            SG.add_node(t, **G.nodes()[t])\n",
    "    for node1 in SG.nodes():\n",
    "        for node2 in SG.nodes():\n",
    "            if G.has_edge(node1,node2):\n",
    "                SG.add_edge(node1,node2)\n",
    "            \n",
    "    SG.add_node(query_node, **G.nodes()[query_node])\n",
    "    return SG\n"
   ]
  },
  {
   "cell_type": "code",
   "execution_count": 5,
   "metadata": {},
   "outputs": [],
   "source": [
    "def get_nr_nodes_in_SG(G, query_node): \n",
    "    nr_nodes = 0\n",
    "    SG= get_complete_subgraph(G, query_node, depth_limit=None)\n",
    "    for node in SG.nodes():\n",
    "        nr_nodes += 1\n",
    "    return nr_nodes\n",
    "\n",
    "def get_conn_in_last_layer(G,query_node):\n",
    "    nr_nodes = 0\n",
    "    SG= get_complete_subgraph(G, query_node, depth_limit=None)\n",
    "    layers = [SG.nodes()[n]['layer'] for n in SG.nodes()]\n",
    "    last_layer = list(set(layers))[-2]\n",
    "    for node in [n for n in SG.nodes() if SG.nodes()[n]['layer'] == last_layer]:\n",
    "        nr_nodes += 1\n",
    "    return nr_nodes\n",
    "    \n",
    "def get_fan_in(G, query_node):\n",
    "    return len([n for n in G.in_edges(query_node)])\n",
    "\n",
    "def get_fan_out(G, query_node):\n",
    "    return len([n for n in G.out_edges(query_node)])\n",
    "\n",
    "def add_normalization(df,G):\n",
    "    df['fan_in'] = df.apply(lambda x: get_fan_in(G, x['source']), axis=1)\n",
    "    df['fan_out'] = df.apply(lambda x: get_fan_out(G,x['source']), axis=1)\n",
    "    df['fan_tot'] = df.apply(lambda x: x['fan_in'] + x['fan_out'], axis=1)\n",
    "    df['nodes_in_SG'] = df.apply(lambda x: get_nr_nodes_in_SG(G, x['source']), axis=1)\n",
    "    df['log(Nodes in SG)'] = np.log2(df['nodes_in_SG'])\n",
    "    df['weighted_val_log'] = df.apply(lambda x: x[\"value\"]/(1+np.log2( x['nodes_in_SG']) if x['nodes_in_SG'] > 0 else x['value']), axis=1)\n",
    "    return df"
   ]
  },
  {
   "cell_type": "code",
   "execution_count": 6,
   "metadata": {},
   "outputs": [
    {
     "data": {
      "text/html": [
       "<div>\n",
       "<style scoped>\n",
       "    .dataframe tbody tr th:only-of-type {\n",
       "        vertical-align: middle;\n",
       "    }\n",
       "\n",
       "    .dataframe tbody tr th {\n",
       "        vertical-align: top;\n",
       "    }\n",
       "\n",
       "    .dataframe thead th {\n",
       "        text-align: right;\n",
       "    }\n",
       "</style>\n",
       "<table border=\"1\" class=\"dataframe\">\n",
       "  <thead>\n",
       "    <tr style=\"text-align: right;\">\n",
       "      <th></th>\n",
       "      <th>source</th>\n",
       "      <th>target</th>\n",
       "      <th>Unnamed: 0</th>\n",
       "      <th>value</th>\n",
       "      <th>type</th>\n",
       "      <th>source layer</th>\n",
       "      <th>target layer</th>\n",
       "      <th>normalized value</th>\n",
       "      <th>unique</th>\n",
       "      <th>fan_in</th>\n",
       "      <th>fan_out</th>\n",
       "      <th>fan_tot</th>\n",
       "      <th>nodes_in_SG</th>\n",
       "      <th>log(Nodes in SG)</th>\n",
       "      <th>weighted_val_log</th>\n",
       "    </tr>\n",
       "  </thead>\n",
       "  <tbody>\n",
       "    <tr>\n",
       "      <th>0</th>\n",
       "      <td>1433B</td>\n",
       "      <td>Activation of BH3-only proteins</td>\n",
       "      <td>3570.5</td>\n",
       "      <td>0.000495</td>\n",
       "      <td>0.5</td>\n",
       "      <td>0.0</td>\n",
       "      <td>1.0</td>\n",
       "      <td>0.000271</td>\n",
       "      <td>True</td>\n",
       "      <td>0</td>\n",
       "      <td>21</td>\n",
       "      <td>21</td>\n",
       "      <td>51</td>\n",
       "      <td>5.672425</td>\n",
       "      <td>0.000074</td>\n",
       "    </tr>\n",
       "    <tr>\n",
       "      <th>1</th>\n",
       "      <td>1433B</td>\n",
       "      <td>Butyrate Response Factor 1 (BRF1) binds and de...</td>\n",
       "      <td>3608.5</td>\n",
       "      <td>0.000495</td>\n",
       "      <td>0.5</td>\n",
       "      <td>0.0</td>\n",
       "      <td>1.0</td>\n",
       "      <td>0.000271</td>\n",
       "      <td>True</td>\n",
       "      <td>0</td>\n",
       "      <td>21</td>\n",
       "      <td>21</td>\n",
       "      <td>51</td>\n",
       "      <td>5.672425</td>\n",
       "      <td>0.000074</td>\n",
       "    </tr>\n",
       "    <tr>\n",
       "      <th>2</th>\n",
       "      <td>1433B</td>\n",
       "      <td>FOXO-mediated transcription</td>\n",
       "      <td>3578.5</td>\n",
       "      <td>0.000495</td>\n",
       "      <td>0.5</td>\n",
       "      <td>0.0</td>\n",
       "      <td>1.0</td>\n",
       "      <td>0.000271</td>\n",
       "      <td>True</td>\n",
       "      <td>0</td>\n",
       "      <td>21</td>\n",
       "      <td>21</td>\n",
       "      <td>51</td>\n",
       "      <td>5.672425</td>\n",
       "      <td>0.000074</td>\n",
       "    </tr>\n",
       "    <tr>\n",
       "      <th>3</th>\n",
       "      <td>1433B</td>\n",
       "      <td>G2/M DNA damage checkpoint</td>\n",
       "      <td>3596.5</td>\n",
       "      <td>0.000495</td>\n",
       "      <td>0.5</td>\n",
       "      <td>0.0</td>\n",
       "      <td>1.0</td>\n",
       "      <td>0.000271</td>\n",
       "      <td>True</td>\n",
       "      <td>0</td>\n",
       "      <td>21</td>\n",
       "      <td>21</td>\n",
       "      <td>51</td>\n",
       "      <td>5.672425</td>\n",
       "      <td>0.000074</td>\n",
       "    </tr>\n",
       "    <tr>\n",
       "      <th>4</th>\n",
       "      <td>1433B</td>\n",
       "      <td>Paradoxical activation of RAF signaling by kin...</td>\n",
       "      <td>3590.5</td>\n",
       "      <td>0.000495</td>\n",
       "      <td>0.5</td>\n",
       "      <td>0.0</td>\n",
       "      <td>1.0</td>\n",
       "      <td>0.000271</td>\n",
       "      <td>True</td>\n",
       "      <td>0</td>\n",
       "      <td>21</td>\n",
       "      <td>21</td>\n",
       "      <td>51</td>\n",
       "      <td>5.672425</td>\n",
       "      <td>0.000074</td>\n",
       "    </tr>\n",
       "  </tbody>\n",
       "</table>\n",
       "</div>"
      ],
      "text/plain": [
       "  source                                             target  Unnamed: 0  \\\n",
       "0  1433B                    Activation of BH3-only proteins      3570.5   \n",
       "1  1433B  Butyrate Response Factor 1 (BRF1) binds and de...      3608.5   \n",
       "2  1433B                        FOXO-mediated transcription      3578.5   \n",
       "3  1433B                         G2/M DNA damage checkpoint      3596.5   \n",
       "4  1433B  Paradoxical activation of RAF signaling by kin...      3590.5   \n",
       "\n",
       "      value  type  source layer  target layer  normalized value  unique  \\\n",
       "0  0.000495   0.5           0.0           1.0          0.000271    True   \n",
       "1  0.000495   0.5           0.0           1.0          0.000271    True   \n",
       "2  0.000495   0.5           0.0           1.0          0.000271    True   \n",
       "3  0.000495   0.5           0.0           1.0          0.000271    True   \n",
       "4  0.000495   0.5           0.0           1.0          0.000271    True   \n",
       "\n",
       "   fan_in  fan_out  fan_tot  nodes_in_SG  log(Nodes in SG)  weighted_val_log  \n",
       "0       0       21       21           51          5.672425          0.000074  \n",
       "1       0       21       21           51          5.672425          0.000074  \n",
       "2       0       21       21           51          5.672425          0.000074  \n",
       "3       0       21       21           51          5.672425          0.000074  \n",
       "4       0       21       21           51          5.672425          0.000074  "
      ]
     },
     "execution_count": 6,
     "metadata": {},
     "output_type": "execute_result"
    }
   ],
   "source": [
    "from ShapExplainerUtil import shap_sankey\n",
    "from plotly.offline import init_notebook_mode\n",
    "import plotly\n",
    "\n",
    "data = \"sepsis\"\n",
    "filepath = f'../../plots/manuscript/SHAP/less_epochs/20_residual_ShapConnections_{data}.csv'\n",
    "df = read_data(filepath)\n",
    "G = create_graph(df)\n",
    "df = add_normalization(df,G)\n",
    "df.head()"
   ]
  },
  {
   "cell_type": "code",
   "execution_count": 6,
   "metadata": {},
   "outputs": [],
   "source": [
    "def generate_sankey(df, G, query_node, upstream=False, save=False, val_col='value'):\n",
    "    if upstream == False:\n",
    "        final_node = \"root\"\n",
    "        SG = get_downstream_subgraph(G, query_node, depth_limit=None)\n",
    "        source_or_target = \"source\" \n",
    "    else:\n",
    "        final_node = query_node\n",
    "        SG = get_upstream_subgraph(G, query_node, depth_limit=None)\n",
    "        source_or_target = \"target\"      \n",
    "    layer_1_nodes = [n for n in SG.nodes() if SG.nodes()[n]['layer'] == 1]\n",
    "\n",
    "    important = [SG.nodes()[n]['weight'] for n in layer_1_nodes]\n",
    "    init_notebook_mode(connected = True)\n",
    "    nodes_in_SG = [n for n in SG.nodes] \n",
    "    df = df[df[source_or_target].isin(nodes_in_SG)]\n",
    "    fig = shap_sankey(df, final_node = final_node, val_col = val_col)\n",
    "    if save:\n",
    "        fig.write_image(f'../../plots/manuscript/network/{data}_sankey_{query_node}.svg', width=1200, scale=2.5, height=800)\n",
    "    fig.show()"
   ]
  },
  {
   "cell_type": "code",
   "execution_count": 7,
   "metadata": {},
   "outputs": [
    {
     "data": {
      "text/html": [
       "        <script type=\"text/javascript\">\n",
       "        window.PlotlyConfig = {MathJaxConfig: 'local'};\n",
       "        if (window.MathJax && window.MathJax.Hub && window.MathJax.Hub.Config) {window.MathJax.Hub.Config({SVG: {font: \"STIX-Web\"}});}\n",
       "        if (typeof require !== 'undefined') {\n",
       "        require.undef(\"plotly\");\n",
       "        requirejs.config({\n",
       "            paths: {\n",
       "                'plotly': ['https://cdn.plot.ly/plotly-2.14.0.min']\n",
       "            }\n",
       "        });\n",
       "        require(['plotly'], function(Plotly) {\n",
       "            window._Plotly = Plotly;\n",
       "        });\n",
       "        }\n",
       "        </script>\n",
       "        "
      ]
     },
     "metadata": {},
     "output_type": "display_data"
    },
    {
     "name": "stderr",
     "output_type": "stream",
     "text": [
      "/home/erikh/master-thesis/src/reactome/ShapExplainerUtil.py:36: SettingWithCopyWarning:\n",
      "\n",
      "\n",
      "A value is trying to be set on a copy of a slice from a DataFrame.\n",
      "Try using .loc[row_indexer,col_indexer] = value instead\n",
      "\n",
      "See the caveats in the documentation: https://pandas.pydata.org/pandas-docs/stable/user_guide/indexing.html#returning-a-view-versus-a-copy\n",
      "\n",
      "/home/erikh/master-thesis/src/reactome/ShapExplainerUtil.py:37: SettingWithCopyWarning:\n",
      "\n",
      "\n",
      "A value is trying to be set on a copy of a slice from a DataFrame.\n",
      "Try using .loc[row_indexer,col_indexer] = value instead\n",
      "\n",
      "See the caveats in the documentation: https://pandas.pydata.org/pandas-docs/stable/user_guide/indexing.html#returning-a-view-versus-a-copy\n",
      "\n",
      "/home/erikh/master-thesis/src/reactome/ShapExplainerUtil.py:49: SettingWithCopyWarning:\n",
      "\n",
      "\n",
      "A value is trying to be set on a copy of a slice from a DataFrame.\n",
      "Try using .loc[row_indexer,col_indexer] = value instead\n",
      "\n",
      "See the caveats in the documentation: https://pandas.pydata.org/pandas-docs/stable/user_guide/indexing.html#returning-a-view-versus-a-copy\n",
      "\n",
      "/home/erikh/master-thesis/src/reactome/ShapExplainerUtil.py:49: SettingWithCopyWarning:\n",
      "\n",
      "\n",
      "A value is trying to be set on a copy of a slice from a DataFrame.\n",
      "Try using .loc[row_indexer,col_indexer] = value instead\n",
      "\n",
      "See the caveats in the documentation: https://pandas.pydata.org/pandas-docs/stable/user_guide/indexing.html#returning-a-view-versus-a-copy\n",
      "\n",
      "/home/erikh/master-thesis/src/reactome/ShapExplainerUtil.py:49: SettingWithCopyWarning:\n",
      "\n",
      "\n",
      "A value is trying to be set on a copy of a slice from a DataFrame.\n",
      "Try using .loc[row_indexer,col_indexer] = value instead\n",
      "\n",
      "See the caveats in the documentation: https://pandas.pydata.org/pandas-docs/stable/user_guide/indexing.html#returning-a-view-versus-a-copy\n",
      "\n",
      "/home/erikh/master-thesis/src/reactome/ShapExplainerUtil.py:49: SettingWithCopyWarning:\n",
      "\n",
      "\n",
      "A value is trying to be set on a copy of a slice from a DataFrame.\n",
      "Try using .loc[row_indexer,col_indexer] = value instead\n",
      "\n",
      "See the caveats in the documentation: https://pandas.pydata.org/pandas-docs/stable/user_guide/indexing.html#returning-a-view-versus-a-copy\n",
      "\n",
      "/home/erikh/master-thesis/src/reactome/ShapExplainerUtil.py:49: SettingWithCopyWarning:\n",
      "\n",
      "\n",
      "A value is trying to be set on a copy of a slice from a DataFrame.\n",
      "Try using .loc[row_indexer,col_indexer] = value instead\n",
      "\n",
      "See the caveats in the documentation: https://pandas.pydata.org/pandas-docs/stable/user_guide/indexing.html#returning-a-view-versus-a-copy\n",
      "\n"
     ]
    },
    {
     "name": "stdout",
     "output_type": "stream",
     "text": [
      "Not found:  MyD88 deficiency (TLR2/4)\n",
      "Not found:  Antigen processing-Cross presentation\n",
      "Not found:  IRAK4 deficiency (TLR2/4)\n",
      "Not found:  Diseases of Immune System\n",
      "Not found:  Programmed Cell Death\n"
     ]
    },
    {
     "data": {
      "application/vnd.plotly.v1+json": {
       "config": {
        "plotlyServerURL": "https://plot.ly"
       },
       "data": [
        {
         "arrangement": "snap",
         "link": {
          "color": [
           "rgba(58.6004535, 76.17308133, 192.189204015, 0.5)",
           "rgba(227.495073411, 108.47412796, 84.98876455400001, 0.5)",
           "rgba(202.96407256900002, 61.670547762, 56.311586029, 0.5)",
           "rgba(179.94665529, 3.9668208, 38.30936706, 0.5)",
           "rgba(152.433077751, 185.46907984499998, 254.94306660299998, 0.5)",
           "rgba(179.94665529, 3.9668208, 38.30936706, 0.5)",
           "rgba(180.72352087800002, 205.45895417699998, 250.184786307, 0.5)",
           "rgba(193.42740055, 212.36058148499998, 244.394002955, 0.5)",
           "rgba(151.050744172, 184.31196746, 254.85563808, 0.5)",
           "rgba(85.04007224200001, 113.79763094799999, 222.985303276, 0.5)",
           "rgba(67.92727442999998, 90.09262414800001, 204.417516472, 0.5)",
           "rgba(77.564443186, 103.770945124, 215.541995308, 0.5)",
           "rgba(86.286010418, 115.46874525199999, 224.22585460399998, 0.5)",
           "rgba(58.6004535, 76.17308133, 192.189204015, 0.5)",
           "rgba(179.94665529, 3.9668208, 38.30936706, 0.5)",
           "rgba(179.94665529, 3.9668208, 38.30936706, 0.5)",
           "rgba(179.94665529, 3.9668208, 38.30936706, 0.5)",
           "rgba(179.94665529, 3.9668208, 38.30936706, 0.5)",
           "rgba(179.94665529, 3.9668208, 38.30936706, 0.5)",
           "rgba(179.94665529, 3.9668208, 38.30936706, 0.5)",
           "rgba(179.94665529, 3.9668208, 38.30936706, 0.5)",
           "rgba(179.94665529, 3.9668208, 38.30936706, 0.5)",
           "rgba(179.94665529, 3.9668208, 38.30936706, 0.5)",
           "rgba(179.94665529, 3.9668208, 38.30936706, 0.5)",
           "rgba(179.94665529, 3.9668208, 38.30936706, 0.5)",
           "rgba(58.6004535, 76.17308133, 192.189204015, 0.5)",
           "rgba(243.487618431, 150.86369797700002, 120.19105319, 0.5)",
           "rgba(151.050744172, 184.31196746, 254.85563808, 0.5)",
           "rgba(60.93185702, 79.653201138, 195.24735505499999, 0.5)",
           "rgba(179.94665529, 3.9668208, 38.30936706, 0.5)",
           "rgba(206.706997081, 68.543250738, 60.034040941, 0.5)",
           "rgba(58.6004535, 76.17308133, 192.189204015, 0.5)"
          ],
          "source": [
           5,
           3,
           16,
           0,
           12,
           2,
           13,
           8,
           21,
           1,
           4,
           15,
           18,
           7,
           6,
           6,
           6,
           6,
           6,
           6,
           6,
           6,
           6,
           6,
           19,
           22,
           9,
           21,
           14,
           11,
           10,
           20
          ],
          "target": [
           10,
           20,
           11,
           10,
           22,
           19,
           9,
           9,
           21,
           14,
           14,
           14,
           14,
           14,
           12,
           2,
           13,
           8,
           21,
           1,
           4,
           15,
           18,
           7,
           3,
           5,
           16,
           0,
           0,
           17,
           17,
           17
          ],
          "value": [
           0.016461957528576616,
           0.040759417328284545,
           0.04326348545222125,
           0.04511359765305058,
           0.01435244808518819,
           0.0477435815233547,
           0.018160943528528248,
           0.019979208684740783,
           0.026434720854747445,
           0.005253043399960243,
           0.0027160108433438774,
           0.004247638012686651,
           0.005460422433494186,
           0.001250440596088667,
           0.0145598457962133,
           0.0145598457962133,
           0.0145598457962133,
           0.0145598457962133,
           0.0145598457962133,
           0.0145598457962133,
           0.0145598457962133,
           0.0145598457962133,
           0.0145598457962133,
           0.0145598457962133,
           0.055515823653905436,
           0.010866994429439586,
           0.044598267848741185,
           0.02337252320913997,
           0.01124484882090682,
           0.06173268338794326,
           0.05889620270295648,
           0.024969571871233293
          ]
         },
         "node": {
          "color": [
           "rgba(179.94665529, 3.9668208, 38.30936706, 0.5)",
           "rgba(85.04007224200001, 113.79763094799999, 222.985303276, 0.5)",
           "rgba(179.94665529, 3.9668208, 38.30936706, 0.5)",
           "rgba(227.495073411, 108.47412796, 84.98876455400001, 0.5)",
           "rgba(67.92727442999998, 90.09262414800001, 204.417516472, 0.5)",
           "rgba(58.6004535, 76.17308133, 192.189204015, 0.5)",
           "rgba(179.94665529, 3.9668208, 38.30936706, 0.5)",
           "rgba(58.6004535, 76.17308133, 192.189204015, 0.5)",
           "rgba(193.42740055, 212.36058148499998, 244.394002955, 0.5)",
           "rgba(243.487618431, 150.86369797700002, 120.19105319, 0.5)",
           "rgba(206.706997081, 68.543250738, 60.034040941, 0.5)",
           "rgba(179.94665529, 3.9668208, 38.30936706, 0.5)",
           "rgba(152.433077751, 185.46907984499998, 254.94306660299998, 0.5)",
           "rgba(180.72352087800002, 205.45895417699998, 250.184786307, 0.5)",
           "rgba(60.93185702, 79.653201138, 195.24735505499999, 0.5)",
           "rgba(77.564443186, 103.770945124, 215.541995308, 0.5)",
           "rgba(202.96407256900002, 61.670547762, 56.311586029, 0.5)",
           "rgba(0,0,0,1)",
           "rgba(86.286010418, 115.46874525199999, 224.22585460399998, 0.5)",
           "rgba(179.94665529, 3.9668208, 38.30936706, 0.5)",
           "rgba(58.6004535, 76.17308133, 192.189204015, 0.5)",
           "rgba(151.050744172, 184.31196746, 254.85563808, 0.5)",
           "rgba(58.6004535, 76.17308133, 192.189204015, 0.5)"
          ],
          "label": [
           "Innate Immunity",
           "Regulation of TLR by ligand",
           "Caspase activation via Death Receptors",
           "Apoptosis",
           "TLR2 Cascade",
           "Adaptive Immune System",
           "CD14",
           "TLR9 Cascade",
           "MyD88 deficiency (TLR2/4)",
           "TLR assoc. diseases",
           "Immune System",
           "Disease",
           "Antigen processing-Cross presentation",
           "IRAK4 deficiency (TLR2/4)",
           "TLR Cascades",
           "TLR4 Cascade",
           "Diseases of Immune System",
           "Output",
           "TLR7/8 Cascade",
           "Caspase activ. via ext.",
           "Programmed Cell Death",
           "Neutrophil degranulation",
           "MHC mediated processing & presentation"
          ],
          "line": {
           "color": "white",
           "width": 2
          },
          "pad": 20,
          "thickness": 20
         },
         "orientation": "h",
         "textfont": {
          "family": "Arial",
          "size": 15
         },
         "type": "sankey"
        }
       ],
       "layout": {
        "template": {
         "data": {
          "bar": [
           {
            "error_x": {
             "color": "#2a3f5f"
            },
            "error_y": {
             "color": "#2a3f5f"
            },
            "marker": {
             "line": {
              "color": "#E5ECF6",
              "width": 0.5
             },
             "pattern": {
              "fillmode": "overlay",
              "size": 10,
              "solidity": 0.2
             }
            },
            "type": "bar"
           }
          ],
          "barpolar": [
           {
            "marker": {
             "line": {
              "color": "#E5ECF6",
              "width": 0.5
             },
             "pattern": {
              "fillmode": "overlay",
              "size": 10,
              "solidity": 0.2
             }
            },
            "type": "barpolar"
           }
          ],
          "carpet": [
           {
            "aaxis": {
             "endlinecolor": "#2a3f5f",
             "gridcolor": "white",
             "linecolor": "white",
             "minorgridcolor": "white",
             "startlinecolor": "#2a3f5f"
            },
            "baxis": {
             "endlinecolor": "#2a3f5f",
             "gridcolor": "white",
             "linecolor": "white",
             "minorgridcolor": "white",
             "startlinecolor": "#2a3f5f"
            },
            "type": "carpet"
           }
          ],
          "choropleth": [
           {
            "colorbar": {
             "outlinewidth": 0,
             "ticks": ""
            },
            "type": "choropleth"
           }
          ],
          "contour": [
           {
            "colorbar": {
             "outlinewidth": 0,
             "ticks": ""
            },
            "colorscale": [
             [
              0,
              "#0d0887"
             ],
             [
              0.1111111111111111,
              "#46039f"
             ],
             [
              0.2222222222222222,
              "#7201a8"
             ],
             [
              0.3333333333333333,
              "#9c179e"
             ],
             [
              0.4444444444444444,
              "#bd3786"
             ],
             [
              0.5555555555555556,
              "#d8576b"
             ],
             [
              0.6666666666666666,
              "#ed7953"
             ],
             [
              0.7777777777777778,
              "#fb9f3a"
             ],
             [
              0.8888888888888888,
              "#fdca26"
             ],
             [
              1,
              "#f0f921"
             ]
            ],
            "type": "contour"
           }
          ],
          "contourcarpet": [
           {
            "colorbar": {
             "outlinewidth": 0,
             "ticks": ""
            },
            "type": "contourcarpet"
           }
          ],
          "heatmap": [
           {
            "colorbar": {
             "outlinewidth": 0,
             "ticks": ""
            },
            "colorscale": [
             [
              0,
              "#0d0887"
             ],
             [
              0.1111111111111111,
              "#46039f"
             ],
             [
              0.2222222222222222,
              "#7201a8"
             ],
             [
              0.3333333333333333,
              "#9c179e"
             ],
             [
              0.4444444444444444,
              "#bd3786"
             ],
             [
              0.5555555555555556,
              "#d8576b"
             ],
             [
              0.6666666666666666,
              "#ed7953"
             ],
             [
              0.7777777777777778,
              "#fb9f3a"
             ],
             [
              0.8888888888888888,
              "#fdca26"
             ],
             [
              1,
              "#f0f921"
             ]
            ],
            "type": "heatmap"
           }
          ],
          "heatmapgl": [
           {
            "colorbar": {
             "outlinewidth": 0,
             "ticks": ""
            },
            "colorscale": [
             [
              0,
              "#0d0887"
             ],
             [
              0.1111111111111111,
              "#46039f"
             ],
             [
              0.2222222222222222,
              "#7201a8"
             ],
             [
              0.3333333333333333,
              "#9c179e"
             ],
             [
              0.4444444444444444,
              "#bd3786"
             ],
             [
              0.5555555555555556,
              "#d8576b"
             ],
             [
              0.6666666666666666,
              "#ed7953"
             ],
             [
              0.7777777777777778,
              "#fb9f3a"
             ],
             [
              0.8888888888888888,
              "#fdca26"
             ],
             [
              1,
              "#f0f921"
             ]
            ],
            "type": "heatmapgl"
           }
          ],
          "histogram": [
           {
            "marker": {
             "pattern": {
              "fillmode": "overlay",
              "size": 10,
              "solidity": 0.2
             }
            },
            "type": "histogram"
           }
          ],
          "histogram2d": [
           {
            "colorbar": {
             "outlinewidth": 0,
             "ticks": ""
            },
            "colorscale": [
             [
              0,
              "#0d0887"
             ],
             [
              0.1111111111111111,
              "#46039f"
             ],
             [
              0.2222222222222222,
              "#7201a8"
             ],
             [
              0.3333333333333333,
              "#9c179e"
             ],
             [
              0.4444444444444444,
              "#bd3786"
             ],
             [
              0.5555555555555556,
              "#d8576b"
             ],
             [
              0.6666666666666666,
              "#ed7953"
             ],
             [
              0.7777777777777778,
              "#fb9f3a"
             ],
             [
              0.8888888888888888,
              "#fdca26"
             ],
             [
              1,
              "#f0f921"
             ]
            ],
            "type": "histogram2d"
           }
          ],
          "histogram2dcontour": [
           {
            "colorbar": {
             "outlinewidth": 0,
             "ticks": ""
            },
            "colorscale": [
             [
              0,
              "#0d0887"
             ],
             [
              0.1111111111111111,
              "#46039f"
             ],
             [
              0.2222222222222222,
              "#7201a8"
             ],
             [
              0.3333333333333333,
              "#9c179e"
             ],
             [
              0.4444444444444444,
              "#bd3786"
             ],
             [
              0.5555555555555556,
              "#d8576b"
             ],
             [
              0.6666666666666666,
              "#ed7953"
             ],
             [
              0.7777777777777778,
              "#fb9f3a"
             ],
             [
              0.8888888888888888,
              "#fdca26"
             ],
             [
              1,
              "#f0f921"
             ]
            ],
            "type": "histogram2dcontour"
           }
          ],
          "mesh3d": [
           {
            "colorbar": {
             "outlinewidth": 0,
             "ticks": ""
            },
            "type": "mesh3d"
           }
          ],
          "parcoords": [
           {
            "line": {
             "colorbar": {
              "outlinewidth": 0,
              "ticks": ""
             }
            },
            "type": "parcoords"
           }
          ],
          "pie": [
           {
            "automargin": true,
            "type": "pie"
           }
          ],
          "scatter": [
           {
            "fillpattern": {
             "fillmode": "overlay",
             "size": 10,
             "solidity": 0.2
            },
            "type": "scatter"
           }
          ],
          "scatter3d": [
           {
            "line": {
             "colorbar": {
              "outlinewidth": 0,
              "ticks": ""
             }
            },
            "marker": {
             "colorbar": {
              "outlinewidth": 0,
              "ticks": ""
             }
            },
            "type": "scatter3d"
           }
          ],
          "scattercarpet": [
           {
            "marker": {
             "colorbar": {
              "outlinewidth": 0,
              "ticks": ""
             }
            },
            "type": "scattercarpet"
           }
          ],
          "scattergeo": [
           {
            "marker": {
             "colorbar": {
              "outlinewidth": 0,
              "ticks": ""
             }
            },
            "type": "scattergeo"
           }
          ],
          "scattergl": [
           {
            "marker": {
             "colorbar": {
              "outlinewidth": 0,
              "ticks": ""
             }
            },
            "type": "scattergl"
           }
          ],
          "scattermapbox": [
           {
            "marker": {
             "colorbar": {
              "outlinewidth": 0,
              "ticks": ""
             }
            },
            "type": "scattermapbox"
           }
          ],
          "scatterpolar": [
           {
            "marker": {
             "colorbar": {
              "outlinewidth": 0,
              "ticks": ""
             }
            },
            "type": "scatterpolar"
           }
          ],
          "scatterpolargl": [
           {
            "marker": {
             "colorbar": {
              "outlinewidth": 0,
              "ticks": ""
             }
            },
            "type": "scatterpolargl"
           }
          ],
          "scatterternary": [
           {
            "marker": {
             "colorbar": {
              "outlinewidth": 0,
              "ticks": ""
             }
            },
            "type": "scatterternary"
           }
          ],
          "surface": [
           {
            "colorbar": {
             "outlinewidth": 0,
             "ticks": ""
            },
            "colorscale": [
             [
              0,
              "#0d0887"
             ],
             [
              0.1111111111111111,
              "#46039f"
             ],
             [
              0.2222222222222222,
              "#7201a8"
             ],
             [
              0.3333333333333333,
              "#9c179e"
             ],
             [
              0.4444444444444444,
              "#bd3786"
             ],
             [
              0.5555555555555556,
              "#d8576b"
             ],
             [
              0.6666666666666666,
              "#ed7953"
             ],
             [
              0.7777777777777778,
              "#fb9f3a"
             ],
             [
              0.8888888888888888,
              "#fdca26"
             ],
             [
              1,
              "#f0f921"
             ]
            ],
            "type": "surface"
           }
          ],
          "table": [
           {
            "cells": {
             "fill": {
              "color": "#EBF0F8"
             },
             "line": {
              "color": "white"
             }
            },
            "header": {
             "fill": {
              "color": "#C8D4E3"
             },
             "line": {
              "color": "white"
             }
            },
            "type": "table"
           }
          ]
         },
         "layout": {
          "annotationdefaults": {
           "arrowcolor": "#2a3f5f",
           "arrowhead": 0,
           "arrowwidth": 1
          },
          "autotypenumbers": "strict",
          "coloraxis": {
           "colorbar": {
            "outlinewidth": 0,
            "ticks": ""
           }
          },
          "colorscale": {
           "diverging": [
            [
             0,
             "#8e0152"
            ],
            [
             0.1,
             "#c51b7d"
            ],
            [
             0.2,
             "#de77ae"
            ],
            [
             0.3,
             "#f1b6da"
            ],
            [
             0.4,
             "#fde0ef"
            ],
            [
             0.5,
             "#f7f7f7"
            ],
            [
             0.6,
             "#e6f5d0"
            ],
            [
             0.7,
             "#b8e186"
            ],
            [
             0.8,
             "#7fbc41"
            ],
            [
             0.9,
             "#4d9221"
            ],
            [
             1,
             "#276419"
            ]
           ],
           "sequential": [
            [
             0,
             "#0d0887"
            ],
            [
             0.1111111111111111,
             "#46039f"
            ],
            [
             0.2222222222222222,
             "#7201a8"
            ],
            [
             0.3333333333333333,
             "#9c179e"
            ],
            [
             0.4444444444444444,
             "#bd3786"
            ],
            [
             0.5555555555555556,
             "#d8576b"
            ],
            [
             0.6666666666666666,
             "#ed7953"
            ],
            [
             0.7777777777777778,
             "#fb9f3a"
            ],
            [
             0.8888888888888888,
             "#fdca26"
            ],
            [
             1,
             "#f0f921"
            ]
           ],
           "sequentialminus": [
            [
             0,
             "#0d0887"
            ],
            [
             0.1111111111111111,
             "#46039f"
            ],
            [
             0.2222222222222222,
             "#7201a8"
            ],
            [
             0.3333333333333333,
             "#9c179e"
            ],
            [
             0.4444444444444444,
             "#bd3786"
            ],
            [
             0.5555555555555556,
             "#d8576b"
            ],
            [
             0.6666666666666666,
             "#ed7953"
            ],
            [
             0.7777777777777778,
             "#fb9f3a"
            ],
            [
             0.8888888888888888,
             "#fdca26"
            ],
            [
             1,
             "#f0f921"
            ]
           ]
          },
          "colorway": [
           "#636efa",
           "#EF553B",
           "#00cc96",
           "#ab63fa",
           "#FFA15A",
           "#19d3f3",
           "#FF6692",
           "#B6E880",
           "#FF97FF",
           "#FECB52"
          ],
          "font": {
           "color": "#2a3f5f"
          },
          "geo": {
           "bgcolor": "white",
           "lakecolor": "white",
           "landcolor": "#E5ECF6",
           "showlakes": true,
           "showland": true,
           "subunitcolor": "white"
          },
          "hoverlabel": {
           "align": "left"
          },
          "hovermode": "closest",
          "mapbox": {
           "style": "light"
          },
          "paper_bgcolor": "white",
          "plot_bgcolor": "#E5ECF6",
          "polar": {
           "angularaxis": {
            "gridcolor": "white",
            "linecolor": "white",
            "ticks": ""
           },
           "bgcolor": "#E5ECF6",
           "radialaxis": {
            "gridcolor": "white",
            "linecolor": "white",
            "ticks": ""
           }
          },
          "scene": {
           "xaxis": {
            "backgroundcolor": "#E5ECF6",
            "gridcolor": "white",
            "gridwidth": 2,
            "linecolor": "white",
            "showbackground": true,
            "ticks": "",
            "zerolinecolor": "white"
           },
           "yaxis": {
            "backgroundcolor": "#E5ECF6",
            "gridcolor": "white",
            "gridwidth": 2,
            "linecolor": "white",
            "showbackground": true,
            "ticks": "",
            "zerolinecolor": "white"
           },
           "zaxis": {
            "backgroundcolor": "#E5ECF6",
            "gridcolor": "white",
            "gridwidth": 2,
            "linecolor": "white",
            "showbackground": true,
            "ticks": "",
            "zerolinecolor": "white"
           }
          },
          "shapedefaults": {
           "line": {
            "color": "#2a3f5f"
           }
          },
          "ternary": {
           "aaxis": {
            "gridcolor": "white",
            "linecolor": "white",
            "ticks": ""
           },
           "baxis": {
            "gridcolor": "white",
            "linecolor": "white",
            "ticks": ""
           },
           "bgcolor": "#E5ECF6",
           "caxis": {
            "gridcolor": "white",
            "linecolor": "white",
            "ticks": ""
           }
          },
          "title": {
           "x": 0.05
          },
          "xaxis": {
           "automargin": true,
           "gridcolor": "white",
           "linecolor": "white",
           "ticks": "",
           "title": {
            "standoff": 15
           },
           "zerolinecolor": "white",
           "zerolinewidth": 2
          },
          "yaxis": {
           "automargin": true,
           "gridcolor": "white",
           "linecolor": "white",
           "ticks": "",
           "title": {
            "standoff": 15
           },
           "zerolinecolor": "white",
           "zerolinewidth": 2
          }
         }
        }
       }
      },
      "text/html": [
       "<div>                            <div id=\"24d648af-e0a0-4408-9e04-69e3ee496f51\" class=\"plotly-graph-div\" style=\"height:525px; width:100%;\"></div>            <script type=\"text/javascript\">                require([\"plotly\"], function(Plotly) {                    window.PLOTLYENV=window.PLOTLYENV || {};                                    if (document.getElementById(\"24d648af-e0a0-4408-9e04-69e3ee496f51\")) {                    Plotly.newPlot(                        \"24d648af-e0a0-4408-9e04-69e3ee496f51\",                        [{\"arrangement\":\"snap\",\"link\":{\"color\":[\"rgba(58.6004535, 76.17308133, 192.189204015, 0.5)\",\"rgba(227.495073411, 108.47412796, 84.98876455400001, 0.5)\",\"rgba(202.96407256900002, 61.670547762, 56.311586029, 0.5)\",\"rgba(179.94665529, 3.9668208, 38.30936706, 0.5)\",\"rgba(152.433077751, 185.46907984499998, 254.94306660299998, 0.5)\",\"rgba(179.94665529, 3.9668208, 38.30936706, 0.5)\",\"rgba(180.72352087800002, 205.45895417699998, 250.184786307, 0.5)\",\"rgba(193.42740055, 212.36058148499998, 244.394002955, 0.5)\",\"rgba(151.050744172, 184.31196746, 254.85563808, 0.5)\",\"rgba(85.04007224200001, 113.79763094799999, 222.985303276, 0.5)\",\"rgba(67.92727442999998, 90.09262414800001, 204.417516472, 0.5)\",\"rgba(77.564443186, 103.770945124, 215.541995308, 0.5)\",\"rgba(86.286010418, 115.46874525199999, 224.22585460399998, 0.5)\",\"rgba(58.6004535, 76.17308133, 192.189204015, 0.5)\",\"rgba(179.94665529, 3.9668208, 38.30936706, 0.5)\",\"rgba(179.94665529, 3.9668208, 38.30936706, 0.5)\",\"rgba(179.94665529, 3.9668208, 38.30936706, 0.5)\",\"rgba(179.94665529, 3.9668208, 38.30936706, 0.5)\",\"rgba(179.94665529, 3.9668208, 38.30936706, 0.5)\",\"rgba(179.94665529, 3.9668208, 38.30936706, 0.5)\",\"rgba(179.94665529, 3.9668208, 38.30936706, 0.5)\",\"rgba(179.94665529, 3.9668208, 38.30936706, 0.5)\",\"rgba(179.94665529, 3.9668208, 38.30936706, 0.5)\",\"rgba(179.94665529, 3.9668208, 38.30936706, 0.5)\",\"rgba(179.94665529, 3.9668208, 38.30936706, 0.5)\",\"rgba(58.6004535, 76.17308133, 192.189204015, 0.5)\",\"rgba(243.487618431, 150.86369797700002, 120.19105319, 0.5)\",\"rgba(151.050744172, 184.31196746, 254.85563808, 0.5)\",\"rgba(60.93185702, 79.653201138, 195.24735505499999, 0.5)\",\"rgba(179.94665529, 3.9668208, 38.30936706, 0.5)\",\"rgba(206.706997081, 68.543250738, 60.034040941, 0.5)\",\"rgba(58.6004535, 76.17308133, 192.189204015, 0.5)\"],\"source\":[5,3,16,0,12,2,13,8,21,1,4,15,18,7,6,6,6,6,6,6,6,6,6,6,19,22,9,21,14,11,10,20],\"target\":[10,20,11,10,22,19,9,9,21,14,14,14,14,14,12,2,13,8,21,1,4,15,18,7,3,5,16,0,0,17,17,17],\"value\":[0.016461957528576616,0.040759417328284545,0.04326348545222125,0.04511359765305058,0.01435244808518819,0.0477435815233547,0.018160943528528248,0.019979208684740783,0.026434720854747445,0.005253043399960243,0.0027160108433438774,0.004247638012686651,0.005460422433494186,0.001250440596088667,0.0145598457962133,0.0145598457962133,0.0145598457962133,0.0145598457962133,0.0145598457962133,0.0145598457962133,0.0145598457962133,0.0145598457962133,0.0145598457962133,0.0145598457962133,0.055515823653905436,0.010866994429439586,0.044598267848741185,0.02337252320913997,0.01124484882090682,0.06173268338794326,0.05889620270295648,0.024969571871233293]},\"node\":{\"color\":[\"rgba(179.94665529, 3.9668208, 38.30936706, 0.5)\",\"rgba(85.04007224200001, 113.79763094799999, 222.985303276, 0.5)\",\"rgba(179.94665529, 3.9668208, 38.30936706, 0.5)\",\"rgba(227.495073411, 108.47412796, 84.98876455400001, 0.5)\",\"rgba(67.92727442999998, 90.09262414800001, 204.417516472, 0.5)\",\"rgba(58.6004535, 76.17308133, 192.189204015, 0.5)\",\"rgba(179.94665529, 3.9668208, 38.30936706, 0.5)\",\"rgba(58.6004535, 76.17308133, 192.189204015, 0.5)\",\"rgba(193.42740055, 212.36058148499998, 244.394002955, 0.5)\",\"rgba(243.487618431, 150.86369797700002, 120.19105319, 0.5)\",\"rgba(206.706997081, 68.543250738, 60.034040941, 0.5)\",\"rgba(179.94665529, 3.9668208, 38.30936706, 0.5)\",\"rgba(152.433077751, 185.46907984499998, 254.94306660299998, 0.5)\",\"rgba(180.72352087800002, 205.45895417699998, 250.184786307, 0.5)\",\"rgba(60.93185702, 79.653201138, 195.24735505499999, 0.5)\",\"rgba(77.564443186, 103.770945124, 215.541995308, 0.5)\",\"rgba(202.96407256900002, 61.670547762, 56.311586029, 0.5)\",\"rgba(0,0,0,1)\",\"rgba(86.286010418, 115.46874525199999, 224.22585460399998, 0.5)\",\"rgba(179.94665529, 3.9668208, 38.30936706, 0.5)\",\"rgba(58.6004535, 76.17308133, 192.189204015, 0.5)\",\"rgba(151.050744172, 184.31196746, 254.85563808, 0.5)\",\"rgba(58.6004535, 76.17308133, 192.189204015, 0.5)\"],\"label\":[\"Innate Immunity\",\"Regulation of TLR by ligand\",\"Caspase activation via Death Receptors\",\"Apoptosis\",\"TLR2 Cascade\",\"Adaptive Immune System\",\"CD14\",\"TLR9 Cascade\",\"MyD88 deficiency (TLR2/4)\",\"TLR assoc. diseases\",\"Immune System\",\"Disease\",\"Antigen processing-Cross presentation\",\"IRAK4 deficiency (TLR2/4)\",\"TLR Cascades\",\"TLR4 Cascade\",\"Diseases of Immune System\",\"Output\",\"TLR7/8 Cascade\",\"Caspase activ. via ext.\",\"Programmed Cell Death\",\"Neutrophil degranulation\",\"MHC mediated processing & presentation\"],\"line\":{\"color\":\"white\",\"width\":2},\"pad\":20,\"thickness\":20},\"orientation\":\"h\",\"textfont\":{\"family\":\"Arial\",\"size\":15},\"type\":\"sankey\"}],                        {\"template\":{\"data\":{\"histogram2dcontour\":[{\"type\":\"histogram2dcontour\",\"colorbar\":{\"outlinewidth\":0,\"ticks\":\"\"},\"colorscale\":[[0.0,\"#0d0887\"],[0.1111111111111111,\"#46039f\"],[0.2222222222222222,\"#7201a8\"],[0.3333333333333333,\"#9c179e\"],[0.4444444444444444,\"#bd3786\"],[0.5555555555555556,\"#d8576b\"],[0.6666666666666666,\"#ed7953\"],[0.7777777777777778,\"#fb9f3a\"],[0.8888888888888888,\"#fdca26\"],[1.0,\"#f0f921\"]]}],\"choropleth\":[{\"type\":\"choropleth\",\"colorbar\":{\"outlinewidth\":0,\"ticks\":\"\"}}],\"histogram2d\":[{\"type\":\"histogram2d\",\"colorbar\":{\"outlinewidth\":0,\"ticks\":\"\"},\"colorscale\":[[0.0,\"#0d0887\"],[0.1111111111111111,\"#46039f\"],[0.2222222222222222,\"#7201a8\"],[0.3333333333333333,\"#9c179e\"],[0.4444444444444444,\"#bd3786\"],[0.5555555555555556,\"#d8576b\"],[0.6666666666666666,\"#ed7953\"],[0.7777777777777778,\"#fb9f3a\"],[0.8888888888888888,\"#fdca26\"],[1.0,\"#f0f921\"]]}],\"heatmap\":[{\"type\":\"heatmap\",\"colorbar\":{\"outlinewidth\":0,\"ticks\":\"\"},\"colorscale\":[[0.0,\"#0d0887\"],[0.1111111111111111,\"#46039f\"],[0.2222222222222222,\"#7201a8\"],[0.3333333333333333,\"#9c179e\"],[0.4444444444444444,\"#bd3786\"],[0.5555555555555556,\"#d8576b\"],[0.6666666666666666,\"#ed7953\"],[0.7777777777777778,\"#fb9f3a\"],[0.8888888888888888,\"#fdca26\"],[1.0,\"#f0f921\"]]}],\"heatmapgl\":[{\"type\":\"heatmapgl\",\"colorbar\":{\"outlinewidth\":0,\"ticks\":\"\"},\"colorscale\":[[0.0,\"#0d0887\"],[0.1111111111111111,\"#46039f\"],[0.2222222222222222,\"#7201a8\"],[0.3333333333333333,\"#9c179e\"],[0.4444444444444444,\"#bd3786\"],[0.5555555555555556,\"#d8576b\"],[0.6666666666666666,\"#ed7953\"],[0.7777777777777778,\"#fb9f3a\"],[0.8888888888888888,\"#fdca26\"],[1.0,\"#f0f921\"]]}],\"contourcarpet\":[{\"type\":\"contourcarpet\",\"colorbar\":{\"outlinewidth\":0,\"ticks\":\"\"}}],\"contour\":[{\"type\":\"contour\",\"colorbar\":{\"outlinewidth\":0,\"ticks\":\"\"},\"colorscale\":[[0.0,\"#0d0887\"],[0.1111111111111111,\"#46039f\"],[0.2222222222222222,\"#7201a8\"],[0.3333333333333333,\"#9c179e\"],[0.4444444444444444,\"#bd3786\"],[0.5555555555555556,\"#d8576b\"],[0.6666666666666666,\"#ed7953\"],[0.7777777777777778,\"#fb9f3a\"],[0.8888888888888888,\"#fdca26\"],[1.0,\"#f0f921\"]]}],\"surface\":[{\"type\":\"surface\",\"colorbar\":{\"outlinewidth\":0,\"ticks\":\"\"},\"colorscale\":[[0.0,\"#0d0887\"],[0.1111111111111111,\"#46039f\"],[0.2222222222222222,\"#7201a8\"],[0.3333333333333333,\"#9c179e\"],[0.4444444444444444,\"#bd3786\"],[0.5555555555555556,\"#d8576b\"],[0.6666666666666666,\"#ed7953\"],[0.7777777777777778,\"#fb9f3a\"],[0.8888888888888888,\"#fdca26\"],[1.0,\"#f0f921\"]]}],\"mesh3d\":[{\"type\":\"mesh3d\",\"colorbar\":{\"outlinewidth\":0,\"ticks\":\"\"}}],\"scatter\":[{\"fillpattern\":{\"fillmode\":\"overlay\",\"size\":10,\"solidity\":0.2},\"type\":\"scatter\"}],\"parcoords\":[{\"type\":\"parcoords\",\"line\":{\"colorbar\":{\"outlinewidth\":0,\"ticks\":\"\"}}}],\"scatterpolargl\":[{\"type\":\"scatterpolargl\",\"marker\":{\"colorbar\":{\"outlinewidth\":0,\"ticks\":\"\"}}}],\"bar\":[{\"error_x\":{\"color\":\"#2a3f5f\"},\"error_y\":{\"color\":\"#2a3f5f\"},\"marker\":{\"line\":{\"color\":\"#E5ECF6\",\"width\":0.5},\"pattern\":{\"fillmode\":\"overlay\",\"size\":10,\"solidity\":0.2}},\"type\":\"bar\"}],\"scattergeo\":[{\"type\":\"scattergeo\",\"marker\":{\"colorbar\":{\"outlinewidth\":0,\"ticks\":\"\"}}}],\"scatterpolar\":[{\"type\":\"scatterpolar\",\"marker\":{\"colorbar\":{\"outlinewidth\":0,\"ticks\":\"\"}}}],\"histogram\":[{\"marker\":{\"pattern\":{\"fillmode\":\"overlay\",\"size\":10,\"solidity\":0.2}},\"type\":\"histogram\"}],\"scattergl\":[{\"type\":\"scattergl\",\"marker\":{\"colorbar\":{\"outlinewidth\":0,\"ticks\":\"\"}}}],\"scatter3d\":[{\"type\":\"scatter3d\",\"line\":{\"colorbar\":{\"outlinewidth\":0,\"ticks\":\"\"}},\"marker\":{\"colorbar\":{\"outlinewidth\":0,\"ticks\":\"\"}}}],\"scattermapbox\":[{\"type\":\"scattermapbox\",\"marker\":{\"colorbar\":{\"outlinewidth\":0,\"ticks\":\"\"}}}],\"scatterternary\":[{\"type\":\"scatterternary\",\"marker\":{\"colorbar\":{\"outlinewidth\":0,\"ticks\":\"\"}}}],\"scattercarpet\":[{\"type\":\"scattercarpet\",\"marker\":{\"colorbar\":{\"outlinewidth\":0,\"ticks\":\"\"}}}],\"carpet\":[{\"aaxis\":{\"endlinecolor\":\"#2a3f5f\",\"gridcolor\":\"white\",\"linecolor\":\"white\",\"minorgridcolor\":\"white\",\"startlinecolor\":\"#2a3f5f\"},\"baxis\":{\"endlinecolor\":\"#2a3f5f\",\"gridcolor\":\"white\",\"linecolor\":\"white\",\"minorgridcolor\":\"white\",\"startlinecolor\":\"#2a3f5f\"},\"type\":\"carpet\"}],\"table\":[{\"cells\":{\"fill\":{\"color\":\"#EBF0F8\"},\"line\":{\"color\":\"white\"}},\"header\":{\"fill\":{\"color\":\"#C8D4E3\"},\"line\":{\"color\":\"white\"}},\"type\":\"table\"}],\"barpolar\":[{\"marker\":{\"line\":{\"color\":\"#E5ECF6\",\"width\":0.5},\"pattern\":{\"fillmode\":\"overlay\",\"size\":10,\"solidity\":0.2}},\"type\":\"barpolar\"}],\"pie\":[{\"automargin\":true,\"type\":\"pie\"}]},\"layout\":{\"autotypenumbers\":\"strict\",\"colorway\":[\"#636efa\",\"#EF553B\",\"#00cc96\",\"#ab63fa\",\"#FFA15A\",\"#19d3f3\",\"#FF6692\",\"#B6E880\",\"#FF97FF\",\"#FECB52\"],\"font\":{\"color\":\"#2a3f5f\"},\"hovermode\":\"closest\",\"hoverlabel\":{\"align\":\"left\"},\"paper_bgcolor\":\"white\",\"plot_bgcolor\":\"#E5ECF6\",\"polar\":{\"bgcolor\":\"#E5ECF6\",\"angularaxis\":{\"gridcolor\":\"white\",\"linecolor\":\"white\",\"ticks\":\"\"},\"radialaxis\":{\"gridcolor\":\"white\",\"linecolor\":\"white\",\"ticks\":\"\"}},\"ternary\":{\"bgcolor\":\"#E5ECF6\",\"aaxis\":{\"gridcolor\":\"white\",\"linecolor\":\"white\",\"ticks\":\"\"},\"baxis\":{\"gridcolor\":\"white\",\"linecolor\":\"white\",\"ticks\":\"\"},\"caxis\":{\"gridcolor\":\"white\",\"linecolor\":\"white\",\"ticks\":\"\"}},\"coloraxis\":{\"colorbar\":{\"outlinewidth\":0,\"ticks\":\"\"}},\"colorscale\":{\"sequential\":[[0.0,\"#0d0887\"],[0.1111111111111111,\"#46039f\"],[0.2222222222222222,\"#7201a8\"],[0.3333333333333333,\"#9c179e\"],[0.4444444444444444,\"#bd3786\"],[0.5555555555555556,\"#d8576b\"],[0.6666666666666666,\"#ed7953\"],[0.7777777777777778,\"#fb9f3a\"],[0.8888888888888888,\"#fdca26\"],[1.0,\"#f0f921\"]],\"sequentialminus\":[[0.0,\"#0d0887\"],[0.1111111111111111,\"#46039f\"],[0.2222222222222222,\"#7201a8\"],[0.3333333333333333,\"#9c179e\"],[0.4444444444444444,\"#bd3786\"],[0.5555555555555556,\"#d8576b\"],[0.6666666666666666,\"#ed7953\"],[0.7777777777777778,\"#fb9f3a\"],[0.8888888888888888,\"#fdca26\"],[1.0,\"#f0f921\"]],\"diverging\":[[0,\"#8e0152\"],[0.1,\"#c51b7d\"],[0.2,\"#de77ae\"],[0.3,\"#f1b6da\"],[0.4,\"#fde0ef\"],[0.5,\"#f7f7f7\"],[0.6,\"#e6f5d0\"],[0.7,\"#b8e186\"],[0.8,\"#7fbc41\"],[0.9,\"#4d9221\"],[1,\"#276419\"]]},\"xaxis\":{\"gridcolor\":\"white\",\"linecolor\":\"white\",\"ticks\":\"\",\"title\":{\"standoff\":15},\"zerolinecolor\":\"white\",\"automargin\":true,\"zerolinewidth\":2},\"yaxis\":{\"gridcolor\":\"white\",\"linecolor\":\"white\",\"ticks\":\"\",\"title\":{\"standoff\":15},\"zerolinecolor\":\"white\",\"automargin\":true,\"zerolinewidth\":2},\"scene\":{\"xaxis\":{\"backgroundcolor\":\"#E5ECF6\",\"gridcolor\":\"white\",\"linecolor\":\"white\",\"showbackground\":true,\"ticks\":\"\",\"zerolinecolor\":\"white\",\"gridwidth\":2},\"yaxis\":{\"backgroundcolor\":\"#E5ECF6\",\"gridcolor\":\"white\",\"linecolor\":\"white\",\"showbackground\":true,\"ticks\":\"\",\"zerolinecolor\":\"white\",\"gridwidth\":2},\"zaxis\":{\"backgroundcolor\":\"#E5ECF6\",\"gridcolor\":\"white\",\"linecolor\":\"white\",\"showbackground\":true,\"ticks\":\"\",\"zerolinecolor\":\"white\",\"gridwidth\":2}},\"shapedefaults\":{\"line\":{\"color\":\"#2a3f5f\"}},\"annotationdefaults\":{\"arrowcolor\":\"#2a3f5f\",\"arrowhead\":0,\"arrowwidth\":1},\"geo\":{\"bgcolor\":\"white\",\"landcolor\":\"#E5ECF6\",\"subunitcolor\":\"white\",\"showland\":true,\"showlakes\":true,\"lakecolor\":\"white\"},\"title\":{\"x\":0.05},\"mapbox\":{\"style\":\"light\"}}}},                        {\"responsive\": true}                    ).then(function(){\n",
       "                            \n",
       "var gd = document.getElementById('24d648af-e0a0-4408-9e04-69e3ee496f51');\n",
       "var x = new MutationObserver(function (mutations, observer) {{\n",
       "        var display = window.getComputedStyle(gd).display;\n",
       "        if (!display || display === 'none') {{\n",
       "            console.log([gd, 'removed!']);\n",
       "            Plotly.purge(gd);\n",
       "            observer.disconnect();\n",
       "        }}\n",
       "}});\n",
       "\n",
       "// Listen for the removal of the full notebook cells\n",
       "var notebookContainer = gd.closest('#notebook-container');\n",
       "if (notebookContainer) {{\n",
       "    x.observe(notebookContainer, {childList: true});\n",
       "}}\n",
       "\n",
       "// Listen for the clearing of the current output cell\n",
       "var outputEl = gd.closest('.output');\n",
       "if (outputEl) {{\n",
       "    x.observe(outputEl, {childList: true});\n",
       "}}\n",
       "\n",
       "                        })                };                });            </script>        </div>"
      ]
     },
     "metadata": {},
     "output_type": "display_data"
    }
   ],
   "source": [
    "from ShapExplainerUtil import shap_sankey\n",
    "from plotly.offline import init_notebook_mode\n",
    "import plotly\n",
    "data = \"sepsis\"\n",
    "filepath = f'../../plots/manuscript/network/{data}_processed.csv'\n",
    "df = pd.read_csv(filepath)\n",
    "val_col = \"weighted_val_log\"\n",
    "query_node = \"CD14\"\n",
    "upstream = False\n",
    "save = True\n",
    "G = create_graph(df, val_col=val_col)\n",
    "generate_sankey(df, G, query_node, upstream, save, val_col)"
   ]
  },
  {
   "cell_type": "code",
   "execution_count": 25,
   "metadata": {},
   "outputs": [
    {
     "data": {
      "image/png": "[encoded data removed]",
      "text/plain": [
       "<Figure size 360x1656 with 10 Axes>"
      ]
     },
     "metadata": {
      "needs_background": "light"
     },
     "output_type": "display_data"
    }
   ],
   "source": [
    "import seaborn as sns\n",
    "fig, axs = plt.subplots(5,1, figsize=(5,23))\n",
    "for i, ax in enumerate(axs.ravel()):\n",
    "    p = df[df['source layer'] == i][['value', \"nodes_in_SG\",'log(Nodes in SG)', 'fan_in','fan_out', 'fan_tot']].corr(\"pearson\")\n",
    "\n",
    "    sns.heatmap(p, annot=True, ax = ax)\n",
    "    ax.set_xticks([x+0.5 for x in range(6)], ['SHAP value','Nodes in SG', 'log(Nodes in SG)','Fan in', 'Fan out', 'Fan in + Fan out'])\n",
    "    ax.set_yticks([x+0.5 for x in range(6)], ['SHAP value','Nodes in SG', 'log(Nodes in SG)','Fan in', 'Fan out', 'Fan in + Fan out'])\n",
    "    ax.set_title(f'Layer {i}', size=20)\n",
    "\n",
    "plt.tight_layout()\n",
    "plt.savefig(f'../../plots/manuscript/{data}CorrelationWithGraphInformed.eps', bbox_inches=\"tight\")"
   ]
  },
  {
   "cell_type": "code",
   "execution_count": 8,
   "metadata": {},
   "outputs": [],
   "source": [
    "df.to_csv(f'../../plots/manuscript/network/{data}_processed.csv')"
   ]
  },
  {
   "cell_type": "code",
   "execution_count": 10,
   "metadata": {},
   "outputs": [
    {
     "name": "stdout",
     "output_type": "stream",
     "text": [
      "['APOB', 'CD14', 'CALR', 'ACTB', 'FA10', 'CO1A1', 'APOA1', 'KNG1', 'APOA4', 'THRB', 'HSP7C', 'HBB', 'OSTP', 'ANT3', 'HV323', 'TBB1', 'CATZ', 'CSPG2', 'HV353', 'HS90B']\n",
      "['APOB', 'CD14', 'CALR', 'FA10', 'KNG1', 'APOA4', 'CO1A1', 'APOA1', 'ANT3', 'OSTP', 'THRB', 'ACTB', 'HBB', 'RNAS1', 'HSP7C', 'ITIH2', 'CATZ', 'CSPG2', 'ADH1A', 'GOLM1']\n"
     ]
    }
   ],
   "source": [
    "g = df.groupby(\"source\", as_index=False).mean()\n",
    "print(g[g[\"source layer\"] == 0].sort_values(\"value\", ascending=False)[\"source\"].unique()[0:20].tolist())\n",
    "print(g[g[\"source layer\"] == 0].sort_values(\"weighted_val_log\", ascending=False)[\"source\"].unique()[0:20].tolist())\n"
   ]
  },
  {
   "cell_type": "code",
   "execution_count": 19,
   "metadata": {},
   "outputs": [
    {
     "name": "stderr",
     "output_type": "stream",
     "text": [
      "/home/erikh/master-thesis/src/reactome/ShapExplainerUtil.py:145: SettingWithCopyWarning:\n",
      "\n",
      "\n",
      "A value is trying to be set on a copy of a slice from a DataFrame.\n",
      "Try using .loc[row_indexer,col_indexer] = value instead\n",
      "\n",
      "See the caveats in the documentation: https://pandas.pydata.org/pandas-docs/stable/user_guide/indexing.html#returning-a-view-versus-a-copy\n",
      "\n",
      "/home/erikh/master-thesis/src/reactome/ShapExplainerUtil.py:145: SettingWithCopyWarning:\n",
      "\n",
      "\n",
      "A value is trying to be set on a copy of a slice from a DataFrame.\n",
      "Try using .loc[row_indexer,col_indexer] = value instead\n",
      "\n",
      "See the caveats in the documentation: https://pandas.pydata.org/pandas-docs/stable/user_guide/indexing.html#returning-a-view-versus-a-copy\n",
      "\n",
      "/home/erikh/master-thesis/src/reactome/ShapExplainerUtil.py:145: SettingWithCopyWarning:\n",
      "\n",
      "\n",
      "A value is trying to be set on a copy of a slice from a DataFrame.\n",
      "Try using .loc[row_indexer,col_indexer] = value instead\n",
      "\n",
      "See the caveats in the documentation: https://pandas.pydata.org/pandas-docs/stable/user_guide/indexing.html#returning-a-view-versus-a-copy\n",
      "\n",
      "/home/erikh/master-thesis/src/reactome/ShapExplainerUtil.py:145: SettingWithCopyWarning:\n",
      "\n",
      "\n",
      "A value is trying to be set on a copy of a slice from a DataFrame.\n",
      "Try using .loc[row_indexer,col_indexer] = value instead\n",
      "\n",
      "See the caveats in the documentation: https://pandas.pydata.org/pandas-docs/stable/user_guide/indexing.html#returning-a-view-versus-a-copy\n",
      "\n",
      "/home/erikh/master-thesis/src/reactome/ShapExplainerUtil.py:145: SettingWithCopyWarning:\n",
      "\n",
      "\n",
      "A value is trying to be set on a copy of a slice from a DataFrame.\n",
      "Try using .loc[row_indexer,col_indexer] = value instead\n",
      "\n",
      "See the caveats in the documentation: https://pandas.pydata.org/pandas-docs/stable/user_guide/indexing.html#returning-a-view-versus-a-copy\n",
      "\n",
      "/home/erikh/master-thesis/src/reactome/ShapExplainerUtil.py:233: SettingWithCopyWarning:\n",
      "\n",
      "\n",
      "A value is trying to be set on a copy of a slice from a DataFrame.\n",
      "Try using .loc[row_indexer,col_indexer] = value instead\n",
      "\n",
      "See the caveats in the documentation: https://pandas.pydata.org/pandas-docs/stable/user_guide/indexing.html#returning-a-view-versus-a-copy\n",
      "\n",
      "/home/erikh/master-thesis/src/reactome/ShapExplainerUtil.py:233: SettingWithCopyWarning:\n",
      "\n",
      "\n",
      "A value is trying to be set on a copy of a slice from a DataFrame.\n",
      "Try using .loc[row_indexer,col_indexer] = value instead\n",
      "\n",
      "See the caveats in the documentation: https://pandas.pydata.org/pandas-docs/stable/user_guide/indexing.html#returning-a-view-versus-a-copy\n",
      "\n",
      "/home/erikh/master-thesis/src/reactome/ShapExplainerUtil.py:233: SettingWithCopyWarning:\n",
      "\n",
      "\n",
      "A value is trying to be set on a copy of a slice from a DataFrame.\n",
      "Try using .loc[row_indexer,col_indexer] = value instead\n",
      "\n",
      "See the caveats in the documentation: https://pandas.pydata.org/pandas-docs/stable/user_guide/indexing.html#returning-a-view-versus-a-copy\n",
      "\n",
      "/home/erikh/master-thesis/src/reactome/ShapExplainerUtil.py:233: SettingWithCopyWarning:\n",
      "\n",
      "\n",
      "A value is trying to be set on a copy of a slice from a DataFrame.\n",
      "Try using .loc[row_indexer,col_indexer] = value instead\n",
      "\n",
      "See the caveats in the documentation: https://pandas.pydata.org/pandas-docs/stable/user_guide/indexing.html#returning-a-view-versus-a-copy\n",
      "\n",
      "/home/erikh/master-thesis/src/reactome/ShapExplainerUtil.py:233: SettingWithCopyWarning:\n",
      "\n",
      "\n",
      "A value is trying to be set on a copy of a slice from a DataFrame.\n",
      "Try using .loc[row_indexer,col_indexer] = value instead\n",
      "\n",
      "See the caveats in the documentation: https://pandas.pydata.org/pandas-docs/stable/user_guide/indexing.html#returning-a-view-versus-a-copy\n",
      "\n",
      "/home/erikh/master-thesis/src/reactome/ShapExplainerUtil.py:233: SettingWithCopyWarning:\n",
      "\n",
      "\n",
      "A value is trying to be set on a copy of a slice from a DataFrame.\n",
      "Try using .loc[row_indexer,col_indexer] = value instead\n",
      "\n",
      "See the caveats in the documentation: https://pandas.pydata.org/pandas-docs/stable/user_guide/indexing.html#returning-a-view-versus-a-copy\n",
      "\n",
      "/home/erikh/master-thesis/src/reactome/ShapExplainerUtil.py:233: SettingWithCopyWarning:\n",
      "\n",
      "\n",
      "A value is trying to be set on a copy of a slice from a DataFrame.\n",
      "Try using .loc[row_indexer,col_indexer] = value instead\n",
      "\n",
      "See the caveats in the documentation: https://pandas.pydata.org/pandas-docs/stable/user_guide/indexing.html#returning-a-view-versus-a-copy\n",
      "\n",
      "/home/erikh/master-thesis/src/reactome/ShapExplainerUtil.py:233: SettingWithCopyWarning:\n",
      "\n",
      "\n",
      "A value is trying to be set on a copy of a slice from a DataFrame.\n",
      "Try using .loc[row_indexer,col_indexer] = value instead\n",
      "\n",
      "See the caveats in the documentation: https://pandas.pydata.org/pandas-docs/stable/user_guide/indexing.html#returning-a-view-versus-a-copy\n",
      "\n",
      "/home/erikh/master-thesis/src/reactome/ShapExplainerUtil.py:233: SettingWithCopyWarning:\n",
      "\n",
      "\n",
      "A value is trying to be set on a copy of a slice from a DataFrame.\n",
      "Try using .loc[row_indexer,col_indexer] = value instead\n",
      "\n",
      "See the caveats in the documentation: https://pandas.pydata.org/pandas-docs/stable/user_guide/indexing.html#returning-a-view-versus-a-copy\n",
      "\n",
      "/home/erikh/master-thesis/src/reactome/ShapExplainerUtil.py:233: SettingWithCopyWarning:\n",
      "\n",
      "\n",
      "A value is trying to be set on a copy of a slice from a DataFrame.\n",
      "Try using .loc[row_indexer,col_indexer] = value instead\n",
      "\n",
      "See the caveats in the documentation: https://pandas.pydata.org/pandas-docs/stable/user_guide/indexing.html#returning-a-view-versus-a-copy\n",
      "\n",
      "/home/erikh/master-thesis/src/reactome/ShapExplainerUtil.py:233: SettingWithCopyWarning:\n",
      "\n",
      "\n",
      "A value is trying to be set on a copy of a slice from a DataFrame.\n",
      "Try using .loc[row_indexer,col_indexer] = value instead\n",
      "\n",
      "See the caveats in the documentation: https://pandas.pydata.org/pandas-docs/stable/user_guide/indexing.html#returning-a-view-versus-a-copy\n",
      "\n",
      "/home/erikh/master-thesis/src/reactome/ShapExplainerUtil.py:233: SettingWithCopyWarning:\n",
      "\n",
      "\n",
      "A value is trying to be set on a copy of a slice from a DataFrame.\n",
      "Try using .loc[row_indexer,col_indexer] = value instead\n",
      "\n",
      "See the caveats in the documentation: https://pandas.pydata.org/pandas-docs/stable/user_guide/indexing.html#returning-a-view-versus-a-copy\n",
      "\n",
      "/home/erikh/master-thesis/src/reactome/ShapExplainerUtil.py:233: SettingWithCopyWarning:\n",
      "\n",
      "\n",
      "A value is trying to be set on a copy of a slice from a DataFrame.\n",
      "Try using .loc[row_indexer,col_indexer] = value instead\n",
      "\n",
      "See the caveats in the documentation: https://pandas.pydata.org/pandas-docs/stable/user_guide/indexing.html#returning-a-view-versus-a-copy\n",
      "\n",
      "/home/erikh/master-thesis/src/reactome/ShapExplainerUtil.py:233: SettingWithCopyWarning:\n",
      "\n",
      "\n",
      "A value is trying to be set on a copy of a slice from a DataFrame.\n",
      "Try using .loc[row_indexer,col_indexer] = value instead\n",
      "\n",
      "See the caveats in the documentation: https://pandas.pydata.org/pandas-docs/stable/user_guide/indexing.html#returning-a-view-versus-a-copy\n",
      "\n",
      "/home/erikh/master-thesis/src/reactome/ShapExplainerUtil.py:233: SettingWithCopyWarning:\n",
      "\n",
      "\n",
      "A value is trying to be set on a copy of a slice from a DataFrame.\n",
      "Try using .loc[row_indexer,col_indexer] = value instead\n",
      "\n",
      "See the caveats in the documentation: https://pandas.pydata.org/pandas-docs/stable/user_guide/indexing.html#returning-a-view-versus-a-copy\n",
      "\n",
      "/home/erikh/master-thesis/src/reactome/ShapExplainerUtil.py:233: SettingWithCopyWarning:\n",
      "\n",
      "\n",
      "A value is trying to be set on a copy of a slice from a DataFrame.\n",
      "Try using .loc[row_indexer,col_indexer] = value instead\n",
      "\n",
      "See the caveats in the documentation: https://pandas.pydata.org/pandas-docs/stable/user_guide/indexing.html#returning-a-view-versus-a-copy\n",
      "\n",
      "/home/erikh/master-thesis/src/reactome/ShapExplainerUtil.py:233: SettingWithCopyWarning:\n",
      "\n",
      "\n",
      "A value is trying to be set on a copy of a slice from a DataFrame.\n",
      "Try using .loc[row_indexer,col_indexer] = value instead\n",
      "\n",
      "See the caveats in the documentation: https://pandas.pydata.org/pandas-docs/stable/user_guide/indexing.html#returning-a-view-versus-a-copy\n",
      "\n",
      "/home/erikh/master-thesis/src/reactome/ShapExplainerUtil.py:233: SettingWithCopyWarning:\n",
      "\n",
      "\n",
      "A value is trying to be set on a copy of a slice from a DataFrame.\n",
      "Try using .loc[row_indexer,col_indexer] = value instead\n",
      "\n",
      "See the caveats in the documentation: https://pandas.pydata.org/pandas-docs/stable/user_guide/indexing.html#returning-a-view-versus-a-copy\n",
      "\n",
      "/home/erikh/master-thesis/src/reactome/ShapExplainerUtil.py:233: SettingWithCopyWarning:\n",
      "\n",
      "\n",
      "A value is trying to be set on a copy of a slice from a DataFrame.\n",
      "Try using .loc[row_indexer,col_indexer] = value instead\n",
      "\n",
      "See the caveats in the documentation: https://pandas.pydata.org/pandas-docs/stable/user_guide/indexing.html#returning-a-view-versus-a-copy\n",
      "\n",
      "/home/erikh/master-thesis/src/reactome/ShapExplainerUtil.py:233: SettingWithCopyWarning:\n",
      "\n",
      "\n",
      "A value is trying to be set on a copy of a slice from a DataFrame.\n",
      "Try using .loc[row_indexer,col_indexer] = value instead\n",
      "\n",
      "See the caveats in the documentation: https://pandas.pydata.org/pandas-docs/stable/user_guide/indexing.html#returning-a-view-versus-a-copy\n",
      "\n",
      "/home/erikh/master-thesis/src/reactome/ShapExplainerUtil.py:233: SettingWithCopyWarning:\n",
      "\n",
      "\n",
      "A value is trying to be set on a copy of a slice from a DataFrame.\n",
      "Try using .loc[row_indexer,col_indexer] = value instead\n",
      "\n",
      "See the caveats in the documentation: https://pandas.pydata.org/pandas-docs/stable/user_guide/indexing.html#returning-a-view-versus-a-copy\n",
      "\n",
      "/home/erikh/master-thesis/src/reactome/ShapExplainerUtil.py:233: SettingWithCopyWarning:\n",
      "\n",
      "\n",
      "A value is trying to be set on a copy of a slice from a DataFrame.\n",
      "Try using .loc[row_indexer,col_indexer] = value instead\n",
      "\n",
      "See the caveats in the documentation: https://pandas.pydata.org/pandas-docs/stable/user_guide/indexing.html#returning-a-view-versus-a-copy\n",
      "\n",
      "/home/erikh/master-thesis/src/reactome/ShapExplainerUtil.py:233: SettingWithCopyWarning:\n",
      "\n",
      "\n",
      "A value is trying to be set on a copy of a slice from a DataFrame.\n",
      "Try using .loc[row_indexer,col_indexer] = value instead\n",
      "\n",
      "See the caveats in the documentation: https://pandas.pydata.org/pandas-docs/stable/user_guide/indexing.html#returning-a-view-versus-a-copy\n",
      "\n",
      "/home/erikh/master-thesis/src/reactome/ShapExplainerUtil.py:233: SettingWithCopyWarning:\n",
      "\n",
      "\n",
      "A value is trying to be set on a copy of a slice from a DataFrame.\n",
      "Try using .loc[row_indexer,col_indexer] = value instead\n",
      "\n",
      "See the caveats in the documentation: https://pandas.pydata.org/pandas-docs/stable/user_guide/indexing.html#returning-a-view-versus-a-copy\n",
      "\n",
      "/home/erikh/master-thesis/src/reactome/ShapExplainerUtil.py:224: SettingWithCopyWarning:\n",
      "\n",
      "\n",
      "A value is trying to be set on a copy of a slice from a DataFrame.\n",
      "Try using .loc[row_indexer,col_indexer] = value instead\n",
      "\n",
      "See the caveats in the documentation: https://pandas.pydata.org/pandas-docs/stable/user_guide/indexing.html#returning-a-view-versus-a-copy\n",
      "\n",
      "/home/erikh/master-thesis/src/reactome/ShapExplainerUtil.py:224: SettingWithCopyWarning:\n",
      "\n",
      "\n",
      "A value is trying to be set on a copy of a slice from a DataFrame.\n",
      "Try using .loc[row_indexer,col_indexer] = value instead\n",
      "\n",
      "See the caveats in the documentation: https://pandas.pydata.org/pandas-docs/stable/user_guide/indexing.html#returning-a-view-versus-a-copy\n",
      "\n",
      "/home/erikh/master-thesis/src/reactome/ShapExplainerUtil.py:233: SettingWithCopyWarning:\n",
      "\n",
      "\n",
      "A value is trying to be set on a copy of a slice from a DataFrame.\n",
      "Try using .loc[row_indexer,col_indexer] = value instead\n",
      "\n",
      "See the caveats in the documentation: https://pandas.pydata.org/pandas-docs/stable/user_guide/indexing.html#returning-a-view-versus-a-copy\n",
      "\n",
      "/home/erikh/master-thesis/src/reactome/ShapExplainerUtil.py:233: SettingWithCopyWarning:\n",
      "\n",
      "\n",
      "A value is trying to be set on a copy of a slice from a DataFrame.\n",
      "Try using .loc[row_indexer,col_indexer] = value instead\n",
      "\n",
      "See the caveats in the documentation: https://pandas.pydata.org/pandas-docs/stable/user_guide/indexing.html#returning-a-view-versus-a-copy\n",
      "\n",
      "/home/erikh/master-thesis/src/reactome/ShapExplainerUtil.py:233: SettingWithCopyWarning:\n",
      "\n",
      "\n",
      "A value is trying to be set on a copy of a slice from a DataFrame.\n",
      "Try using .loc[row_indexer,col_indexer] = value instead\n",
      "\n",
      "See the caveats in the documentation: https://pandas.pydata.org/pandas-docs/stable/user_guide/indexing.html#returning-a-view-versus-a-copy\n",
      "\n",
      "/home/erikh/master-thesis/src/reactome/ShapExplainerUtil.py:233: SettingWithCopyWarning:\n",
      "\n",
      "\n",
      "A value is trying to be set on a copy of a slice from a DataFrame.\n",
      "Try using .loc[row_indexer,col_indexer] = value instead\n",
      "\n",
      "See the caveats in the documentation: https://pandas.pydata.org/pandas-docs/stable/user_guide/indexing.html#returning-a-view-versus-a-copy\n",
      "\n",
      "/home/erikh/master-thesis/src/reactome/ShapExplainerUtil.py:233: SettingWithCopyWarning:\n",
      "\n",
      "\n",
      "A value is trying to be set on a copy of a slice from a DataFrame.\n",
      "Try using .loc[row_indexer,col_indexer] = value instead\n",
      "\n",
      "See the caveats in the documentation: https://pandas.pydata.org/pandas-docs/stable/user_guide/indexing.html#returning-a-view-versus-a-copy\n",
      "\n",
      "/home/erikh/master-thesis/src/reactome/ShapExplainerUtil.py:224: SettingWithCopyWarning:\n",
      "\n",
      "\n",
      "A value is trying to be set on a copy of a slice from a DataFrame.\n",
      "Try using .loc[row_indexer,col_indexer] = value instead\n",
      "\n",
      "See the caveats in the documentation: https://pandas.pydata.org/pandas-docs/stable/user_guide/indexing.html#returning-a-view-versus-a-copy\n",
      "\n",
      "/home/erikh/master-thesis/src/reactome/ShapExplainerUtil.py:233: SettingWithCopyWarning:\n",
      "\n",
      "\n",
      "A value is trying to be set on a copy of a slice from a DataFrame.\n",
      "Try using .loc[row_indexer,col_indexer] = value instead\n",
      "\n",
      "See the caveats in the documentation: https://pandas.pydata.org/pandas-docs/stable/user_guide/indexing.html#returning-a-view-versus-a-copy\n",
      "\n",
      "/home/erikh/master-thesis/src/reactome/ShapExplainerUtil.py:233: SettingWithCopyWarning:\n",
      "\n",
      "\n",
      "A value is trying to be set on a copy of a slice from a DataFrame.\n",
      "Try using .loc[row_indexer,col_indexer] = value instead\n",
      "\n",
      "See the caveats in the documentation: https://pandas.pydata.org/pandas-docs/stable/user_guide/indexing.html#returning-a-view-versus-a-copy\n",
      "\n",
      "/home/erikh/master-thesis/src/reactome/ShapExplainerUtil.py:233: SettingWithCopyWarning:\n",
      "\n",
      "\n",
      "A value is trying to be set on a copy of a slice from a DataFrame.\n",
      "Try using .loc[row_indexer,col_indexer] = value instead\n",
      "\n",
      "See the caveats in the documentation: https://pandas.pydata.org/pandas-docs/stable/user_guide/indexing.html#returning-a-view-versus-a-copy\n",
      "\n",
      "/home/erikh/master-thesis/src/reactome/ShapExplainerUtil.py:233: SettingWithCopyWarning:\n",
      "\n",
      "\n",
      "A value is trying to be set on a copy of a slice from a DataFrame.\n",
      "Try using .loc[row_indexer,col_indexer] = value instead\n",
      "\n",
      "See the caveats in the documentation: https://pandas.pydata.org/pandas-docs/stable/user_guide/indexing.html#returning-a-view-versus-a-copy\n",
      "\n",
      "/home/erikh/master-thesis/src/reactome/ShapExplainerUtil.py:233: SettingWithCopyWarning:\n",
      "\n",
      "\n",
      "A value is trying to be set on a copy of a slice from a DataFrame.\n",
      "Try using .loc[row_indexer,col_indexer] = value instead\n",
      "\n",
      "See the caveats in the documentation: https://pandas.pydata.org/pandas-docs/stable/user_guide/indexing.html#returning-a-view-versus-a-copy\n",
      "\n",
      "/home/erikh/master-thesis/src/reactome/ShapExplainerUtil.py:233: SettingWithCopyWarning:\n",
      "\n",
      "\n",
      "A value is trying to be set on a copy of a slice from a DataFrame.\n",
      "Try using .loc[row_indexer,col_indexer] = value instead\n",
      "\n",
      "See the caveats in the documentation: https://pandas.pydata.org/pandas-docs/stable/user_guide/indexing.html#returning-a-view-versus-a-copy\n",
      "\n",
      "/home/erikh/master-thesis/src/reactome/ShapExplainerUtil.py:233: SettingWithCopyWarning:\n",
      "\n",
      "\n",
      "A value is trying to be set on a copy of a slice from a DataFrame.\n",
      "Try using .loc[row_indexer,col_indexer] = value instead\n",
      "\n",
      "See the caveats in the documentation: https://pandas.pydata.org/pandas-docs/stable/user_guide/indexing.html#returning-a-view-versus-a-copy\n",
      "\n",
      "/home/erikh/master-thesis/src/reactome/ShapExplainerUtil.py:233: SettingWithCopyWarning:\n",
      "\n",
      "\n",
      "A value is trying to be set on a copy of a slice from a DataFrame.\n",
      "Try using .loc[row_indexer,col_indexer] = value instead\n",
      "\n",
      "See the caveats in the documentation: https://pandas.pydata.org/pandas-docs/stable/user_guide/indexing.html#returning-a-view-versus-a-copy\n",
      "\n",
      "/home/erikh/master-thesis/src/reactome/ShapExplainerUtil.py:233: SettingWithCopyWarning:\n",
      "\n",
      "\n",
      "A value is trying to be set on a copy of a slice from a DataFrame.\n",
      "Try using .loc[row_indexer,col_indexer] = value instead\n",
      "\n",
      "See the caveats in the documentation: https://pandas.pydata.org/pandas-docs/stable/user_guide/indexing.html#returning-a-view-versus-a-copy\n",
      "\n",
      "/home/erikh/master-thesis/src/reactome/ShapExplainerUtil.py:233: SettingWithCopyWarning:\n",
      "\n",
      "\n",
      "A value is trying to be set on a copy of a slice from a DataFrame.\n",
      "Try using .loc[row_indexer,col_indexer] = value instead\n",
      "\n",
      "See the caveats in the documentation: https://pandas.pydata.org/pandas-docs/stable/user_guide/indexing.html#returning-a-view-versus-a-copy\n",
      "\n",
      "/home/erikh/master-thesis/src/reactome/ShapExplainerUtil.py:224: SettingWithCopyWarning:\n",
      "\n",
      "\n",
      "A value is trying to be set on a copy of a slice from a DataFrame.\n",
      "Try using .loc[row_indexer,col_indexer] = value instead\n",
      "\n",
      "See the caveats in the documentation: https://pandas.pydata.org/pandas-docs/stable/user_guide/indexing.html#returning-a-view-versus-a-copy\n",
      "\n",
      "/home/erikh/master-thesis/src/reactome/ShapExplainerUtil.py:233: SettingWithCopyWarning:\n",
      "\n",
      "\n",
      "A value is trying to be set on a copy of a slice from a DataFrame.\n",
      "Try using .loc[row_indexer,col_indexer] = value instead\n",
      "\n",
      "See the caveats in the documentation: https://pandas.pydata.org/pandas-docs/stable/user_guide/indexing.html#returning-a-view-versus-a-copy\n",
      "\n",
      "/home/erikh/master-thesis/src/reactome/ShapExplainerUtil.py:233: SettingWithCopyWarning:\n",
      "\n",
      "\n",
      "A value is trying to be set on a copy of a slice from a DataFrame.\n",
      "Try using .loc[row_indexer,col_indexer] = value instead\n",
      "\n",
      "See the caveats in the documentation: https://pandas.pydata.org/pandas-docs/stable/user_guide/indexing.html#returning-a-view-versus-a-copy\n",
      "\n",
      "/home/erikh/master-thesis/src/reactome/ShapExplainerUtil.py:233: SettingWithCopyWarning:\n",
      "\n",
      "\n",
      "A value is trying to be set on a copy of a slice from a DataFrame.\n",
      "Try using .loc[row_indexer,col_indexer] = value instead\n",
      "\n",
      "See the caveats in the documentation: https://pandas.pydata.org/pandas-docs/stable/user_guide/indexing.html#returning-a-view-versus-a-copy\n",
      "\n",
      "/home/erikh/master-thesis/src/reactome/ShapExplainerUtil.py:233: SettingWithCopyWarning:\n",
      "\n",
      "\n",
      "A value is trying to be set on a copy of a slice from a DataFrame.\n",
      "Try using .loc[row_indexer,col_indexer] = value instead\n",
      "\n",
      "See the caveats in the documentation: https://pandas.pydata.org/pandas-docs/stable/user_guide/indexing.html#returning-a-view-versus-a-copy\n",
      "\n",
      "/home/erikh/master-thesis/src/reactome/ShapExplainerUtil.py:233: SettingWithCopyWarning:\n",
      "\n",
      "\n",
      "A value is trying to be set on a copy of a slice from a DataFrame.\n",
      "Try using .loc[row_indexer,col_indexer] = value instead\n",
      "\n",
      "See the caveats in the documentation: https://pandas.pydata.org/pandas-docs/stable/user_guide/indexing.html#returning-a-view-versus-a-copy\n",
      "\n",
      "/home/erikh/master-thesis/src/reactome/ShapExplainerUtil.py:233: SettingWithCopyWarning:\n",
      "\n",
      "\n",
      "A value is trying to be set on a copy of a slice from a DataFrame.\n",
      "Try using .loc[row_indexer,col_indexer] = value instead\n",
      "\n",
      "See the caveats in the documentation: https://pandas.pydata.org/pandas-docs/stable/user_guide/indexing.html#returning-a-view-versus-a-copy\n",
      "\n",
      "/home/erikh/master-thesis/src/reactome/ShapExplainerUtil.py:233: SettingWithCopyWarning:\n",
      "\n",
      "\n",
      "A value is trying to be set on a copy of a slice from a DataFrame.\n",
      "Try using .loc[row_indexer,col_indexer] = value instead\n",
      "\n",
      "See the caveats in the documentation: https://pandas.pydata.org/pandas-docs/stable/user_guide/indexing.html#returning-a-view-versus-a-copy\n",
      "\n",
      "/home/erikh/master-thesis/src/reactome/ShapExplainerUtil.py:233: SettingWithCopyWarning:\n",
      "\n",
      "\n",
      "A value is trying to be set on a copy of a slice from a DataFrame.\n",
      "Try using .loc[row_indexer,col_indexer] = value instead\n",
      "\n",
      "See the caveats in the documentation: https://pandas.pydata.org/pandas-docs/stable/user_guide/indexing.html#returning-a-view-versus-a-copy\n",
      "\n",
      "/home/erikh/master-thesis/src/reactome/ShapExplainerUtil.py:224: SettingWithCopyWarning:\n",
      "\n",
      "\n",
      "A value is trying to be set on a copy of a slice from a DataFrame.\n",
      "Try using .loc[row_indexer,col_indexer] = value instead\n",
      "\n",
      "See the caveats in the documentation: https://pandas.pydata.org/pandas-docs/stable/user_guide/indexing.html#returning-a-view-versus-a-copy\n",
      "\n",
      "/home/erikh/master-thesis/src/reactome/ShapExplainerUtil.py:233: SettingWithCopyWarning:\n",
      "\n",
      "\n",
      "A value is trying to be set on a copy of a slice from a DataFrame.\n",
      "Try using .loc[row_indexer,col_indexer] = value instead\n",
      "\n",
      "See the caveats in the documentation: https://pandas.pydata.org/pandas-docs/stable/user_guide/indexing.html#returning-a-view-versus-a-copy\n",
      "\n",
      "/home/erikh/master-thesis/src/reactome/ShapExplainerUtil.py:233: SettingWithCopyWarning:\n",
      "\n",
      "\n",
      "A value is trying to be set on a copy of a slice from a DataFrame.\n",
      "Try using .loc[row_indexer,col_indexer] = value instead\n",
      "\n",
      "See the caveats in the documentation: https://pandas.pydata.org/pandas-docs/stable/user_guide/indexing.html#returning-a-view-versus-a-copy\n",
      "\n",
      "/home/erikh/master-thesis/src/reactome/ShapExplainerUtil.py:233: SettingWithCopyWarning:\n",
      "\n",
      "\n",
      "A value is trying to be set on a copy of a slice from a DataFrame.\n",
      "Try using .loc[row_indexer,col_indexer] = value instead\n",
      "\n",
      "See the caveats in the documentation: https://pandas.pydata.org/pandas-docs/stable/user_guide/indexing.html#returning-a-view-versus-a-copy\n",
      "\n"
     ]
    },
    {
     "name": "stdout",
     "output_type": "stream",
     "text": [
      "Not found:  Cargo recognition for clathrin-mediated endocytosis\n",
      "Not found:  Chaperone Mediated Autophagy\n",
      "Not found:  CALR\n",
      "Not found:  Post-translational protein phosphorylation\n",
      "Not found:  Infectious disease\n",
      "Not found:  Scavenging by Class F Receptors\n",
      "Not found:  ANT3\n",
      "Not found:  FA10\n",
      "Not found:  Sensory Perception\n",
      "Not found:  Autophagy\n",
      "Not found:  KNG1\n",
      "Not found:  Signaling by PDGF\n",
      "Not found:  Chaperone Mediated Autophagy\n",
      "Not found:  Response to elevated platelet cytosolic Ca2+\n",
      "Not found:  Signaling by PDGF\n",
      "Not found:  Scavenging by Class F Receptors\n",
      "Not found:  Post-translational protein phosphorylation\n",
      "Not found:  Visual phototransduction\n",
      "Not found:  Clathrin-mediated endocytosis\n"
     ]
    }
   ],
   "source": [
    "\n",
    "from ShapExplainerUtil import shap_sankey, complete_shap_sankey\n",
    "import pandas as pd\n",
    "\n",
    "\n",
    "data = \"sepsis\"\n",
    "filepath = f'../../plots/manuscript/network/{data}_processed.csv'\n",
    "df = pd.read_csv(filepath)\n",
    "complete_shap_sankey(df, val_col='weighted_val_log', savename=f'../../plots/manuscript/network/{data}_processed_SANKEY.png')"
   ]
  }
 ],
 "metadata": {
  "kernelspec": {
   "display_name": "Python 3.9.13 ('my-venv': venv)",
   "language": "python",
   "name": "python3"
  },
  "language_info": {
   "codemirror_mode": {
    "name": "ipython",
    "version": 3
   },
   "file_extension": ".py",
   "mimetype": "text/x-python",
   "name": "python",
   "nbconvert_exporter": "python",
   "pygments_lexer": "ipython3",
   "version": "3.9.13"
  },
  "orig_nbformat": 4,
  "vscode": {
   "interpreter": {
    "hash": "eae7508b21f3653c230424b738ed2068c58a3364cce29c1e1f71a1de90c001b7"
   }
  }
 },
 "nbformat": 4,
 "nbformat_minor": 2
}
